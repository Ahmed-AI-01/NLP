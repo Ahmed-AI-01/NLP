{
  "nbformat": 4,
  "nbformat_minor": 0,
  "metadata": {
    "colab": {
      "provenance": []
    },
    "kernelspec": {
      "name": "python3",
      "display_name": "Python 3"
    },
    "language_info": {
      "name": "python"
    }
  },
  "cells": [
    {
      "cell_type": "markdown",
      "source": [
        "##Imports"
      ],
      "metadata": {
        "id": "Rz1ra6i65iBS"
      }
    },
    {
      "cell_type": "code",
      "source": [
        "import pandas as pd\n",
        "from sklearn.model_selection import train_test_split\n",
        "from sklearn.feature_extraction.text import CountVectorizer, TfidfVectorizer\n",
        "from sklearn.svm import SVC\n",
        "from sklearn.ensemble import RandomForestClassifier\n",
        "from sklearn.metrics import accuracy_score, precision_score, recall_score\n",
        "from nltk.corpus import stopwords\n",
        "from nltk.stem import PorterStemmer\n",
        "import string\n",
        "import nltk\n",
        "\n",
        "\n",
        "nltk.download('stopwords')\n",
        "nltk.download('wordnet')\n",
        "nltk.download('punkt')"
      ],
      "metadata": {
        "colab": {
          "base_uri": "https://localhost:8080/"
        },
        "id": "Kdvk-Lnc5noi",
        "outputId": "f25e9314-c58e-4c60-cbf0-b4c355cff78b"
      },
      "execution_count": 17,
      "outputs": [
        {
          "output_type": "stream",
          "name": "stderr",
          "text": [
            "[nltk_data] Downloading package stopwords to /root/nltk_data...\n",
            "[nltk_data]   Package stopwords is already up-to-date!\n",
            "[nltk_data] Downloading package wordnet to /root/nltk_data...\n",
            "[nltk_data]   Package wordnet is already up-to-date!\n",
            "[nltk_data] Downloading package punkt to /root/nltk_data...\n",
            "[nltk_data]   Package punkt is already up-to-date!\n"
          ]
        },
        {
          "output_type": "execute_result",
          "data": {
            "text/plain": [
              "True"
            ]
          },
          "metadata": {},
          "execution_count": 17
        }
      ]
    },
    {
      "cell_type": "markdown",
      "source": [
        "##Load Dataset"
      ],
      "metadata": {
        "id": "HyqN4Wfw5sIV"
      }
    },
    {
      "cell_type": "code",
      "source": [
        "train_df = pd.read_csv('/content/SMS_train.csv', encoding='cp1252')\n",
        "test_df = pd.read_csv('/content/SMS_test.csv', encoding='cp1252')"
      ],
      "metadata": {
        "id": "gp606mNL5nkq"
      },
      "execution_count": 18,
      "outputs": []
    },
    {
      "cell_type": "markdown",
      "source": [
        "##Step 1: Display the training and testing datasets"
      ],
      "metadata": {
        "id": "48VStrRX5znE"
      }
    },
    {
      "cell_type": "code",
      "source": [
        "print(\"\\nStep 1: Load the training and testing datasets\")\n",
        "print(\"Training Data (first 5 rows):\\n\", train_df.head())\n",
        "print(\"Testing Data (first 5 rows):\\n\", test_df.head())"
      ],
      "metadata": {
        "colab": {
          "base_uri": "https://localhost:8080/"
        },
        "id": "anYvE4WM55GL",
        "outputId": "8bb6036c-cb15-4b3c-9ee3-a08f5ae150e6"
      },
      "execution_count": 19,
      "outputs": [
        {
          "output_type": "stream",
          "name": "stdout",
          "text": [
            "\n",
            "Step 1: Load the training and testing datasets\n",
            "Training Data (first 5 rows):\n",
            "    S. No.                                       Message_body     Label\n",
            "0       1                         Rofl. Its true to its name  Non-Spam\n",
            "1       2  The guy did some bitching but I acted like i'd...  Non-Spam\n",
            "2       3  Pity, * was in mood for that. So...any other s...  Non-Spam\n",
            "3       4               Will ü b going to esplanade fr home?  Non-Spam\n",
            "4       5  This is the 2nd time we have tried 2 contact u...      Spam\n",
            "Testing Data (first 5 rows):\n",
            "    S. No.                                       Message_body Label\n",
            "0       1  UpgrdCentre Orange customer, you may now claim...  Spam\n",
            "1       2  Loan for any purpose £500 - £75,000. Homeowner...  Spam\n",
            "2       3  Congrats! Nokia 3650 video camera phone is you...  Spam\n",
            "3       4  URGENT! Your Mobile number has been awarded wi...  Spam\n",
            "4       5  Someone has contacted our dating service and e...  Spam\n"
          ]
        }
      ]
    },
    {
      "cell_type": "markdown",
      "source": [
        "##Step 2: Check for missing values and remove them"
      ],
      "metadata": {
        "id": "oY9b7Koo5zjw"
      }
    },
    {
      "cell_type": "code",
      "source": [
        "print(\"\\nStep 2: Check for missing values and remove them\")\n",
        "print(\"Number of rows before removing missing values in training set:\", len(train_df))\n",
        "train_df = train_df.dropna()\n",
        "print(\"Number of rows after removing missing values in training set:\", len(train_df))\n",
        "\n",
        "print(\"Number of rows before removing missing values in testing set:\", len(test_df))\n",
        "test_df = test_df.dropna()\n",
        "print(\"Number of rows after removing missing values in testing set:\", len(test_df))"
      ],
      "metadata": {
        "colab": {
          "base_uri": "https://localhost:8080/"
        },
        "id": "NUfwTOnz6IU9",
        "outputId": "4b0f4317-63d2-43ac-bcd7-6702f9d8dac1"
      },
      "execution_count": 20,
      "outputs": [
        {
          "output_type": "stream",
          "name": "stdout",
          "text": [
            "\n",
            "Step 2: Check for missing values and remove them\n",
            "Number of rows before removing missing values in training set: 957\n",
            "Number of rows after removing missing values in training set: 957\n",
            "Number of rows before removing missing values in testing set: 125\n",
            "Number of rows after removing missing values in testing set: 125\n"
          ]
        }
      ]
    },
    {
      "cell_type": "markdown",
      "source": [
        "## Display processed data"
      ],
      "metadata": {
        "id": "b8sQfB5f6NoU"
      }
    },
    {
      "cell_type": "code",
      "source": [
        "print(\"\\nProcessed Training Data (first 5 rows):\\n\", train_df.head())\n",
        "print(\"\\nProcessed Testing Data (first 5 rows):\\n\", test_df.head())"
      ],
      "metadata": {
        "colab": {
          "base_uri": "https://localhost:8080/"
        },
        "id": "fOjwAtwY6Trn",
        "outputId": "0881e03d-ba3f-4bbe-8e28-501e648f06ab"
      },
      "execution_count": 21,
      "outputs": [
        {
          "output_type": "stream",
          "name": "stdout",
          "text": [
            "\n",
            "Processed Training Data (first 5 rows):\n",
            "    S. No.                                       Message_body     Label\n",
            "0       1                         Rofl. Its true to its name  Non-Spam\n",
            "1       2  The guy did some bitching but I acted like i'd...  Non-Spam\n",
            "2       3  Pity, * was in mood for that. So...any other s...  Non-Spam\n",
            "3       4               Will ü b going to esplanade fr home?  Non-Spam\n",
            "4       5  This is the 2nd time we have tried 2 contact u...      Spam\n",
            "\n",
            "Processed Testing Data (first 5 rows):\n",
            "    S. No.                                       Message_body Label\n",
            "0       1  UpgrdCentre Orange customer, you may now claim...  Spam\n",
            "1       2  Loan for any purpose £500 - £75,000. Homeowner...  Spam\n",
            "2       3  Congrats! Nokia 3650 video camera phone is you...  Spam\n",
            "3       4  URGENT! Your Mobile number has been awarded wi...  Spam\n",
            "4       5  Someone has contacted our dating service and e...  Spam\n"
          ]
        }
      ]
    },
    {
      "cell_type": "markdown",
      "source": [
        "##Step 3: Convert all text to lowercase"
      ],
      "metadata": {
        "id": "liP9-Bgg6fA8"
      }
    },
    {
      "cell_type": "code",
      "source": [
        "print(\"\\nStep 3: Convert all text to lowercase\")\n",
        "train_df['Message_body'] = train_df['Message_body'].apply(lambda x: x.lower())\n",
        "test_df['Message_body'] = test_df['Message_body'].apply(lambda x: x.lower())\n",
        "print(\"Training Data after lowercase conversion (first 5 rows):\\n\", train_df.head())\n",
        "print(\"Testing Data after lowercase conversion (first 5 rows):\\n\", test_df.head())"
      ],
      "metadata": {
        "colab": {
          "base_uri": "https://localhost:8080/"
        },
        "id": "I2439qTh6ljk",
        "outputId": "e18df783-1f13-4a0e-f5c6-149e3f96cb50"
      },
      "execution_count": 22,
      "outputs": [
        {
          "output_type": "stream",
          "name": "stdout",
          "text": [
            "\n",
            "Step 3: Convert all text to lowercase\n",
            "Training Data after lowercase conversion (first 5 rows):\n",
            "    S. No.                                       Message_body     Label\n",
            "0       1                         rofl. its true to its name  Non-Spam\n",
            "1       2  the guy did some bitching but i acted like i'd...  Non-Spam\n",
            "2       3  pity, * was in mood for that. so...any other s...  Non-Spam\n",
            "3       4               will ü b going to esplanade fr home?  Non-Spam\n",
            "4       5  this is the 2nd time we have tried 2 contact u...      Spam\n",
            "Testing Data after lowercase conversion (first 5 rows):\n",
            "    S. No.                                       Message_body Label\n",
            "0       1  upgrdcentre orange customer, you may now claim...  Spam\n",
            "1       2  loan for any purpose £500 - £75,000. homeowner...  Spam\n",
            "2       3  congrats! nokia 3650 video camera phone is you...  Spam\n",
            "3       4  urgent! your mobile number has been awarded wi...  Spam\n",
            "4       5  someone has contacted our dating service and e...  Spam\n"
          ]
        }
      ]
    },
    {
      "cell_type": "markdown",
      "source": [
        "##Step 4: Remove stop words"
      ],
      "metadata": {
        "id": "l76Z1hYs6m_x"
      }
    },
    {
      "cell_type": "code",
      "source": [
        "print(\"\\nStep 4: Remove stop words\")\n",
        "stop_words = set(stopwords.words('english'))\n",
        "train_df['Message_body'] = train_df['Message_body'].apply(lambda x: ' '.join([word for word in x.split() if word not in stop_words]))\n",
        "test_df['Message_body'] = test_df['Message_body'].apply(lambda x: ' '.join([word for word in x.split() if word not in stop_words]))\n",
        "print(\"Training Data after removing stop words (first 5 rows):\\n\", train_df.head())\n",
        "print(\"Testing Data after removing stop words (first 5 rows):\\n\", test_df.head())"
      ],
      "metadata": {
        "colab": {
          "base_uri": "https://localhost:8080/"
        },
        "id": "Wh9Anldl6uDX",
        "outputId": "2650c097-f232-4333-fb6b-4c99647c4fc9"
      },
      "execution_count": 23,
      "outputs": [
        {
          "output_type": "stream",
          "name": "stdout",
          "text": [
            "\n",
            "Step 4: Remove stop words\n",
            "Training Data after removing stop words (first 5 rows):\n",
            "    S. No.                                       Message_body     Label\n",
            "0       1                                    rofl. true name  Non-Spam\n",
            "1       2  guy bitching acted like i'd interested buying ...  Non-Spam\n",
            "2       3           pity, * mood that. so...any suggestions?  Non-Spam\n",
            "3       4                       ü b going esplanade fr home?  Non-Spam\n",
            "4       5  2nd time tried 2 contact u. u £750 pound prize...      Spam\n",
            "Testing Data after removing stop words (first 5 rows):\n",
            "    S. No.                                       Message_body Label\n",
            "0       1  upgrdcentre orange customer, may claim free ca...  Spam\n",
            "1       2  loan purpose £500 - £75,000. homeowners + tena...  Spam\n",
            "2       3  congrats! nokia 3650 video camera phone call 0...  Spam\n",
            "3       4  urgent! mobile number awarded £2000 prize guar...  Spam\n",
            "4       5  someone contacted dating service entered phone...  Spam\n"
          ]
        }
      ]
    },
    {
      "cell_type": "markdown",
      "source": [
        "##Step 5: Remove punctuation"
      ],
      "metadata": {
        "id": "4gwDxQKQ6x2u"
      }
    },
    {
      "cell_type": "code",
      "source": [
        "print(\"\\nStep 5: Remove punctuation\")\n",
        "train_df['Message_body'] = train_df['Message_body'].apply(lambda x: x.translate(str.maketrans('', '', string.punctuation)))\n",
        "test_df['Message_body'] = test_df['Message_body'].apply(lambda x: x.translate(str.maketrans('', '', string.punctuation)))\n",
        "print(\"Training Data after removing punctuation (first 5 rows):\\n\", train_df.head())\n",
        "print(\"Testing Data after removing punctuation (first 5 rows):\\n\", test_df.head())"
      ],
      "metadata": {
        "colab": {
          "base_uri": "https://localhost:8080/"
        },
        "id": "vMaYIFiS618B",
        "outputId": "8adc6a21-f5e1-4721-e967-2b9709e98ebb"
      },
      "execution_count": 24,
      "outputs": [
        {
          "output_type": "stream",
          "name": "stdout",
          "text": [
            "\n",
            "Step 5: Remove punctuation\n",
            "Training Data after removing punctuation (first 5 rows):\n",
            "    S. No.                                       Message_body     Label\n",
            "0       1                                     rofl true name  Non-Spam\n",
            "1       2  guy bitching acted like id interested buying s...  Non-Spam\n",
            "2       3                  pity  mood that soany suggestions  Non-Spam\n",
            "3       4                        ü b going esplanade fr home  Non-Spam\n",
            "4       5  2nd time tried 2 contact u u £750 pound prize ...      Spam\n",
            "Testing Data after removing punctuation (first 5 rows):\n",
            "    S. No.                                       Message_body Label\n",
            "0       1  upgrdcentre orange customer may claim free cam...  Spam\n",
            "1       2  loan purpose £500  £75000 homeowners  tenants ...  Spam\n",
            "2       3  congrats nokia 3650 video camera phone call 09...  Spam\n",
            "3       4  urgent mobile number awarded £2000 prize guara...  Spam\n",
            "4       5  someone contacted dating service entered phone...  Spam\n"
          ]
        }
      ]
    },
    {
      "cell_type": "markdown",
      "source": [
        "##Step 6: Perform stemming"
      ],
      "metadata": {
        "id": "YF7y_HGV65CE"
      }
    },
    {
      "cell_type": "code",
      "source": [
        "print(\"\\nStep 6: Perform stemming\")\n",
        "ps = PorterStemmer()\n",
        "train_df['Message_body'] = train_df['Message_body'].apply(lambda x: ' '.join([ps.stem(word) for word in x.split()]))\n",
        "test_df['Message_body'] = test_df['Message_body'].apply(lambda x: ' '.join([ps.stem(word) for word in x.split()]))\n",
        "print(\"Training Data after stemming (first 5 rows):\\n\", train_df.head())\n",
        "print(\"Testing Data after stemming (first 5 rows):\\n\", test_df.head())"
      ],
      "metadata": {
        "colab": {
          "base_uri": "https://localhost:8080/"
        },
        "id": "S7hHHv_H69v1",
        "outputId": "47eef611-8618-4974-ffef-70fbc11ccf0f"
      },
      "execution_count": 25,
      "outputs": [
        {
          "output_type": "stream",
          "name": "stdout",
          "text": [
            "\n",
            "Step 6: Perform stemming\n",
            "Training Data after stemming (first 5 rows):\n",
            "    S. No.                                       Message_body     Label\n",
            "0       1                                     rofl true name  Non-Spam\n",
            "1       2  guy bitch act like id interest buy someth els ...  Non-Spam\n",
            "2       3                       piti mood that soani suggest  Non-Spam\n",
            "3       4                            ü b go esplanad fr home  Non-Spam\n",
            "4       5  2nd time tri 2 contact u u £750 pound prize 2 ...      Spam\n",
            "Testing Data after stemming (first 5 rows):\n",
            "    S. No.                                       Message_body Label\n",
            "0       1  upgrdcentr orang custom may claim free camera ...  Spam\n",
            "1       2  loan purpos £500 £75000 homeown tenant welcom ...  Spam\n",
            "2       3  congrat nokia 3650 video camera phone call 090...  Spam\n",
            "3       4  urgent mobil number award £2000 prize guarante...  Spam\n",
            "4       5  someon contact date servic enter phone fanci y...  Spam\n"
          ]
        }
      ]
    },
    {
      "cell_type": "markdown",
      "source": [
        "##Display processed data"
      ],
      "metadata": {
        "id": "1awOlO-47AZD"
      }
    },
    {
      "cell_type": "code",
      "source": [
        "print(\"\\nProcessed Training Data (first 5 rows):\\n\", train_df.head())\n",
        "print(\"\\nProcessed Testing Data (first 5 rows):\\n\", test_df.head())"
      ],
      "metadata": {
        "colab": {
          "base_uri": "https://localhost:8080/"
        },
        "id": "8K7POOrq7GIZ",
        "outputId": "6fc27d80-a16b-49a2-b403-6b7cd91bcf37"
      },
      "execution_count": 26,
      "outputs": [
        {
          "output_type": "stream",
          "name": "stdout",
          "text": [
            "\n",
            "Processed Training Data (first 5 rows):\n",
            "    S. No.                                       Message_body     Label\n",
            "0       1                                     rofl true name  Non-Spam\n",
            "1       2  guy bitch act like id interest buy someth els ...  Non-Spam\n",
            "2       3                       piti mood that soani suggest  Non-Spam\n",
            "3       4                            ü b go esplanad fr home  Non-Spam\n",
            "4       5  2nd time tri 2 contact u u £750 pound prize 2 ...      Spam\n",
            "\n",
            "Processed Testing Data (first 5 rows):\n",
            "    S. No.                                       Message_body Label\n",
            "0       1  upgrdcentr orang custom may claim free camera ...  Spam\n",
            "1       2  loan purpos £500 £75000 homeown tenant welcom ...  Spam\n",
            "2       3  congrat nokia 3650 video camera phone call 090...  Spam\n",
            "3       4  urgent mobil number award £2000 prize guarante...  Spam\n",
            "4       5  someon contact date servic enter phone fanci y...  Spam\n"
          ]
        }
      ]
    },
    {
      "cell_type": "markdown",
      "source": [
        "## Task 2: Data Visualization"
      ],
      "metadata": {
        "id": "LzBiCFiP7Hr5"
      }
    },
    {
      "cell_type": "code",
      "source": [
        "import matplotlib.pyplot as plt\n",
        "\n",
        "# Visualize the distribution of labels in the training set\n",
        "plt.figure(figsize=(8, 6))\n",
        "train_df['Label'].value_counts().plot(kind='bar', color=['skyblue', 'salmon'])\n",
        "plt.title('Distribution of Labels in Training Dataset')\n",
        "plt.xlabel('Label')\n",
        "plt.ylabel('Count')\n",
        "plt.show()"
      ],
      "metadata": {
        "colab": {
          "base_uri": "https://localhost:8080/",
          "height": 622
        },
        "id": "9F2FG0GL7TTi",
        "outputId": "0545b966-5f5f-4a94-f7f5-b0d18a7010f1"
      },
      "execution_count": 27,
      "outputs": [
        {
          "output_type": "display_data",
          "data": {
            "text/plain": [
              "<Figure size 800x600 with 1 Axes>"
            ],
            "image/png": "[encoded data removed]"
          },
          "metadata": {}
        }
      ]
    },
    {
      "cell_type": "markdown",
      "source": [
        "## Task 3: Feature **Engineering**"
      ],
      "metadata": {
        "id": "bNRP31CE7XPa"
      }
    },
    {
      "cell_type": "markdown",
      "source": [
        "## Bag of Words representation"
      ],
      "metadata": {
        "id": "8ju7c6D07dNA"
      }
    },
    {
      "cell_type": "code",
      "source": [
        "count_vectorizer = CountVectorizer(binary= True)\n",
        "X_train_bow = count_vectorizer.fit_transform(train_df['Message_body'])\n",
        "X_test_bow = count_vectorizer.transform(test_df['Message_body'])\n",
        "print(\"Our vocabulary: \", count_vectorizer.vocabulary_)"
      ],
      "metadata": {
        "colab": {
          "base_uri": "https://localhost:8080/"
        },
        "id": "y2hd4WYN7cjr",
        "outputId": "ecce8ee4-ef75-468b-f0fe-672199feb3b8"
      },
      "execution_count": 33,
      "outputs": [
        {
          "output_type": "stream",
          "name": "stdout",
          "text": [
            "Our vocabulary:  {'rofl': 2089, 'true': 2541, 'name': 1682, 'guy': 1151, 'bitch': 467, 'act': 279, 'like': 1468, 'id': 1269, 'interest': 1315, 'buy': 541, 'someth': 2268, 'els': 889, 'next': 1706, 'week': 2679, 'gave': 1079, 'us': 2598, 'free': 1037, 'piti': 1883, 'mood': 1640, 'that': 2441, 'soani': 2257, 'suggest': 2369, 'go': 1105, 'esplanad': 915, 'fr': 1034, 'home': 1235, '2nd': 148, 'time': 2480, 'tri': 2537, 'contact': 688, '750': 222, 'pound': 1923, 'prize': 1958, 'claim': 639, 'easi': 873, 'call': 549, '087187272008': 44, 'now1': 1745, '10p': 80, 'per': 1855, 'minut': 1610, 'btnationalr': 527, 'remind': 2047, 'o2': 1758, 'get': 1093, '250': 128, 'credit': 721, 'detail': 785, 'great': 1136, 'offer': 1766, 'pl': 1886, 'repli': 2057, 'text': 2435, 'valid': 2607, 'hous': 1246, 'postcod': 1922, 'huh': 1256, 'lei': 1454, 'wait': 2645, 'til': 2478, 'least': 1446, 'wednesday': 2677, 'see': 2146, 'ard': 361, 'dat': 749, 'lor': 1504, 'ok': 1772, 'soni': 2273, 'ericsson': 909, 'salesman': 2116, 'ask': 381, 'shuhui': 2203, 'say': 2130, 'quit': 1990, 'gd': 1081, 'use': 2599, 'consid': 685, 'dump': 863, 'heap': 1187, 'mom': 1632, 'decid': 763, 'come': 664, 'low': 1519, 'bore': 487, 'anyth': 347, 'juz': 1380, 'ltgt': 1524, 'hour': 1245, 'imma': 1282, 'flip': 1012, 'shit': 2183, 'sorri': 2278, 'ill': 1278, 'later': 1435, 'no': 1721, 'meant': 1580, 'calcul': 546, 'same': 2120, 'unit': 2576, 'school': 2132, 'realli': 2019, 'expens': 944, 'start': 2320, 'practic': 1930, 'accent': 272, 'import': 1284, '4year': 202, 'dental': 778, 'nmde': 1720, 'exam': 933, 'ye': 2800, 'have': 1182, 'pshewmiss': 1971, 'much': 1668, 'yeh': 2803, 'indian': 1299, 'nice': 1710, 'tho': 2462, 'kane': 1384, 'bit': 466, 'he': 1184, 'shud': 2202, 'drink': 850, 'sometim': 2270, 'soon': 2274, 'mite': 1617, 'hav': 1181, 'da': 737, 'work': 2741, 'laugh': 1437, 'love': 1517, 'pete': 1863, 'well': 2684, 'keep': 1391, 'mind': 1605, 'ive': 1341, 'got': 1125, 'enough': 901, 'ga': 1065, 'one': 1785, 'round': 2093, 'trip': 2538, 'bar': 422, 'sudden': 2365, 'influx': 1304, 'cash': 583, 'hahahaus': 1160, 'brain': 507, 'dear': 759, 'safe': 2110, 'nigeria': 1712, 'wish': 2718, 'happi': 1172, 'compani': 669, 'share': 2174, 'moment': 1633, 'wen': 2687, 'spiritu': 2302, 'deep': 765, 'cool': 696, 'think': 2457, 'here': 1205, 'know': 1413, 'wot': 2749, 'peopl': 1854, 'wear': 2672, 'shirt': 2182, 'jumper': 1376, 'hat': 1178, 'belt': 450, 'cribb': 723, 'weekend': 2680, 'ic': 1267, 'lotta': 1512, 'childporn': 627, 'car': 572, 'then': 2448, 'hi': 1209, 'durban': 866, 'still': 2331, 'number': 1749, 'im': 1279, 'take': 2400, 'derek': 781, 'amp': 334, 'taylor': 2411, 'walmart': 2651, 'back': 415, 'done': 834, 'leav': 1448, 'mous': 1651, 'desk': 784, 'priscilla': 1956, 'readi': 2014, 'havent': 1183, 'urself': 2597, 'jacket': 1344, 'ah': 304, 'armand': 368, 'ass': 386, 'epsilon': 907, 'yeah': 2801, 'ju': 1374, 'rite': 2084, '3mobil': 173, '0870': 21, 'chatlin': 607, 'inclu': 1291, 'min': 1603, 'india': 1298, 'cust': 731, 'serv': 2163, 'sed': 2145, 'l8er': 1421, 'mega': 1584, 'bill': 461, 'dont': 836, 'giv': 1100, 'bailiff': 419, 'due': 860, 'day': 755, 'want': 2655, '800': 229, 'sleepingand': 2237, 'surf': 2383, 'cant': 567, 'believ': 447, 'attach': 395, 'everi': 923, 'best': 454, 'babe': 413, 'teach': 2415, 'class': 641, 'midnight': 1599, 'explicit': 947, 'sex': 2167, '30': 158, 'sec': 2140, 'ring': 2080, '02073162414': 2, 'now': 1744, 'cost': 702, '20pmin': 124, 'gsex': 1141, 'pobox': 1900, '2667': 134, 'wc1n': 2669, '3xx': 178, 'aiyah': 311, 'wat': 2663, 'long': 1498, 'improv': 1286, 'alreadi': 327, 'thinkin': 2458, 'malaria': 1551, 'relax': 2041, 'children': 628, 'handl': 1167, 'would': 2750, 'wors': 2746, 'gastroenter': 1078, 'replac': 2056, 'loss': 1508, 'temp': 2424, 'reduc': 2032, 'give': 1101, 'med': 1582, 'vomit': 2637, 'self': 2151, 'limit': 1469, 'mean': 1579, 'complet': 673, 'stop': 2337, 'anoth': 342, 'hey': 1207, 'chief': 623, 'bell': 448, 'thi': 2455, 'need': 1696, 'talk': 2402, 'royal': 2095, 'visit': 2629, '1st': 115, 'june': 1377, 'happen': 1171, 'adventur': 294, 'compliment': 674, 'you': 2819, 'away': 407, 'system': 2397, 'side': 2207, 'tantrum': 2406, 'finish': 998, 'point': 1905, 'effect': 880, 'irrit': 1326, 'ignor': 1276, 'total': 2517, 'disappoint': 814, 'craziest': 718, 'privat': 1957, '2003': 120, 'account': 277, 'statement': 2322, 'show': 2197, 'unredeem': 2581, 'sim': 2211, '08718738001': 46, 'identifi': 1273, 'code': 653, '49557': 195, 'expir': 946, '261104': 133, 'tell': 2421, 'bad': 416, 'feel': 978, 'basic': 426, 'late': 1433, 'drug': 855, 'award': 406, 'sipix': 2217, 'digit': 802, 'camera': 557, '09061221061': 55, 'landlin': 1430, 'deliveri': 774, 'within': 2721, '28day': 136, 'cs': 727, 'box177': 499, 'm221bp': 1536, '2yr': 157, 'warranti': 2659, '150ppm': 102, '16': 108, '399': 168, 'join': 1365, 'tomorrow': 2503, 'pleas': 1894, 'big': 459, 'chic': 620, 'common': 667, 'declar': 764, 'hear': 1188, 'send': 2156, 'saibaba': 2111, 'colani': 656, 'way': 2668, 'put': 1983, 'skip': 2230, 'right': 2079, 'outsid': 1814, 'front': 1052, 'is': 1328, 'pull': 1976, 'it': 1334, 'mile': 1601, 'smile': 2249, 'made': 1544, 'frm': 1046, 'letter': 1458, 'differ': 799, 'ur': 2591, 'face': 954, 'even': 921, 'though': 2465, 'good': 1117, 'nyt': 1756, 'ya': 2794, 'referin': 2036, 'mei': 1586, 'ex': 930, 'waitin': 2646, 'treat': 2535, 'somebodi': 2264, 'shld': 2187, 'rich': 2077, 'liaoso': 1461, 'den': 776, 'dun': 864, 'tmr': 2489, 'onward': 1789, 'role': 2090, 'model': 1628, 'miracl': 1611, 'god': 1108, 'reason': 2022, 'everyth': 926, 'must': 1676, 'knew': 1412, 'look': 1501, 'sinc': 2214, 'young': 2821, 'do': 822, 'oh': 1771, 'oki': 1776, 'lorw': 1506, 'sat': 2126, 'make': 1550, 'dinner': 806, 'reassur': 2023, 'crazi': 717, 'world': 2743, 'went': 2689, 'project': 1964, 'centr': 595, 'lol': 1494, 'mad': 1542, 'first': 1002, 'woke': 2732, 'in': 1287, 'machan': 1540, 'gym': 1154, 'wil': 2712, 'goodnight': 1121, 'insid': 1310, 'night': 1713, 'grace': 1131, 'measur': 1581, 'power': 1926, 'boundari': 496, 'may': 1574, 'endless': 893, 'bless': 470, 'alway': 330, 'life': 1464, 'gud': 1145, 'ni8': 1708, 'told': 2501, 'stupid': 2355, 'wont': 2737, 'dad': 738, 'brother': 520, 'spoken': 2307, 'me': 1577, 'msg': 1660, 'perhap': 1858, 'identif': 1272, 'uni': 2572, 'apo': 351, 'mokka': 1631, 'player': 1892, '07808247860': 9, '08719899229': 49, '40411': 181, '061104': 5, 'law': 1439, 'person': 1861, 'friendship': 1045, 'never': 1703, 'friend': 1044, 'alon': 325, 'aliv': 322, 'step': 2326, 'outta': 1816, 'congrat': 682, 'again': 300, 'wake': 2647, 'gt': 1142, 'sm': 2244, 'servic': 2164, 'inclus': 1293, 'goto': 1127, 'wwwcomuknet': 2767, 'login': 1491, '3qxj9': 174, 'unsubscrib': 2582, 'extra': 950, 'charg': 601, 'help': 1202, '08702840625comuk': 25, '220cm2': 126, '9ae': 263, 'trust': 2543, 'new': 1704, 'stuff': 2352, 'asap': 375, 'afternoon': 297, 'goe': 1109, 'sleep': 2235, 'hope': 1239, 'boytoy': 506, 'shall': 2171, 'tip': 2481, 'anyway': 350, 'drop': 854, 'let': 1457, 'town': 2522, 'tonight': 2505, 'mayb': 1575, 'mum': 1671, 'rule': 2101, 'tamilnaduthen': 2404, 'tough': 2519, 'marvel': 1563, 'mobil': 1625, 'play': 1891, 'offici': 1769, 'ultim': 2565, 'spiderman': 2299, 'game': 1073, '450': 189, 'spider': 2298, '83338': 239, '8ball': 257, 'wallpap': 2649, 'studi': 2350, 'sch': 2131, 'sent': 2159, 'thank': 2438, 'loti': 1511, 'bought': 495, 'egg': 882, '2p': 151, 'germani': 1092, '08448350055': 19, 'bt': 524, 'line': 1471, 'check': 612, 'planettalkinstantcom': 1890, 'info': 1305, 'ts': 2545, 'opt': 1797, 'ofcours': 1763, 'also': 329, 'upload': 2588, 'song': 2272, 'fuck': 1054, 'famili': 960, 'rhode': 2076, 'island': 1330, 'wherev': 2699, 'bong': 481, 'pick': 1874, 'variou': 2610, 'yeovil': 2804, 'motor': 1649, '12': 84, '530': 205, 'max': 1571, 'li': 1459, 'hai': 1161, 'lectur': 1449, 'repeat': 2055, 'last': 1432, 'wast': 2662, 'urgent': 2593, 'draw': 844, '1000': 74, 'guarante': 1144, '09064017295': 63, 'k52': 1381, '12hr': 88, '150p': 94, 'pm': 1898, 'food': 1019, 'seen': 2149, 'who': 2704, 'holbi': 1228, 'doesnt': 826, 'stress': 2344, 'gr8': 1129, 'probabl': 1960, 'todaysundaysunday': 2496, 'holidayso': 1233, 'princess': 1954, 'command': 666, 'dhoni': 789, 'luck': 1527, 'win': 2714, 'titleso': 2485, 'where': 2698, 'mummi': 1674, 'boy': 503, 'posit': 1918, 'neg': 1698, 'hmmmm': 1223, 'reach': 2012, 'messag': 1594, 'obvious': 1761, 'colleg': 662, 'yup': 2828, 'thought': 2466, 'slide': 2240, 'spanish': 2289, 'holiday': 1232, '09050000332': 50, 'tc': 2413, 'rstm': 2097, 'sw7': 2386, '3ss': 175, 'garden': 1077, 'summer': 2372, 'select': 2150, 'bulb': 536, 'seed': 2147, 'worth': 2748, '3350': 163, 'scotsman': 2134, 'saturday': 2127, 'go2': 1106, 'notxtcouk': 1743, 'httptm': 1252, 'widelivecomindex': 2708, 'wmlid820554ad0a1705572711firsttrue': 2727, 'ringtone': 2082, 'bring': 514, 'bottl': 493, 'wine': 2716, 'amus': 336, 'joke': 1367, 'll': 1485, 'treasur': 2534, 'spend': 2295, 'togeth': 2498, 'goin': 1111, '2nite': 149, 'txt': 2555, '86888': 248, 'reward': 2075, 'phone': 1867, 'subscribe6gbpmnth': 2360, 'inc': 1289, '3hr': 171, 'stoptxtstop': 2338, 'wwwgambtv': 2770, 'thk': 2460, 'wan': 2652, 'decemb': 762, 'onli': 1787, '11mth': 83, 'entitl': 903, 'updat': 2586, 'latest': 1436, 'colour': 663, 'co': 651, '08002986906': 16, 'loud': 1515, 'scream': 2136, 'caus': 588, 'gyno': 1156, 'shove': 2196, 'thing': 2456, 'belong': 449, 'arun': 374, 'transfr': 2530, 'amt': 335, 'sparkl': 2290, 'shop': 2189, 'break': 511, '45': 188, '0121': 0, '2025050': 122, 'wwwshortbreaksorguk': 2776, 'beauti': 437, 'reveal': 2072, 'enjoy': 898, 'wonder': 2736, 'except': 935, 'there': 2451, 'chick': 621, 'huge': 1255, 'boob': 483, 'what': 2692, 'hello': 1199, 'email': 891, 'address': 286, 'sing': 2215, 'hu': 1254, 'find': 994, 'someon': 2265, 'femal': 982, 'place': 1887, 'prefer': 1936, 'citizen': 637, 'smart': 2247, 'navig': 1690, 'through': 2469, 'choos': 631, 'plan': 1889, 'requir': 2061, 'guidanc': 1149, 'doubt': 840, 'especi': 914, 'girl': 1096, 'sac': 2107, 'carri': 581, 'on': 1784, 'news': 1705, 'polic': 1907, 'station': 2323, 'toilet': 2500, 'stolen': 2334, 'cop': 698, 'noth': 1741, 'aight': 308, 'up': 2583, 'open': 1793, 'money': 1636, 'worri': 2745, 'journey': 1370, 'receipt': 2025, 'pendent': 1853, 'fine': 995, 'bud': 531, 'morn': 1645, 'repair': 2054, 'shopth': 2191, '32000': 162, '0800': 12, '18': 111, 'legitimat': 1452, 'efreefon': 881, 'watch': 2664, 'kind': 1401, 'get4an18th': 1094, 'sure': 2382, 'train': 2527, 'worc': 2739, 'foreg': 1022, 'street': 2343, 'shrub': 2200, 'hill': 1212, 'fun': 1059, 'gener': 1087, 'date': 750, 'brotha': 519, 'book': 484, 'lesson': 1456, 'sun': 2373, 'liao': 1460, 'youdo': 2820, 'sar': 2123, 'xxx': 2791, 'slow': 2242, 'biola': 462, 'fne': 1014, 'mode': 1627, 'men': 1590, 'left': 1450, 'wif': 2709, 'tix': 2486, 'lar': 1431, 'jesu': 1359, 'everybodi': 924, 'gonna': 1116, 'specif': 2293, 'thanx': 2440, 'lot': 1510, 'pay': 1847, 'attent': 398, 'whenev': 2696, 'around': 370, 'er': 908, '1526': 106, 'pubcaf': 1975, 'sit': 2221, 'didnt': 795, 'gist': 1099, 'santa': 2122, 'littl': 1481, 'xma': 2787, 'eve': 920, '09058094583': 53, 'diet': 797, 'flew': 1009, 'window': 2715, 'otherwis': 1809, 'part': 1837, 'job': 1363, 'natuit': 1687, 'horribl': 1240, 'gal': 1068, 'yest': 2811, 'ksri': 1418, 'knw': 1414, 'sivatat': 2225, 'askd': 382, 'elain': 886, 'today': 2495, 'meet': 1583, 'confirm': 679, 'month': 1639, 'bruce': 522, 'fowler': 1033, 'park': 1836, 'stori': 2340, 'to': 2491, 'how': 1248, 'master': 1565, 'nope': 1734, 'forgot': 1026, 'slave': 2234, 'pictur': 1875, 'bright': 513, 'light': 1466, 'cell': 594, 'chicken': 622, 'broth': 518, 'ramen': 2002, 'unless': 2578, 'east': 874, 'coast': 652, 'nite': 1718, 'pocay': 1903, 'wocay': 2731, 'luv': 1532, '4eva': 196, 'promis': 1966, '2morrowxxxx': 146, 'victoria': 2617, 'traffic': 2526, 'plu': 1896, 'when': 2695, 'album': 318, 'ge': 1082, 'daddi': 739, 'shu': 2201, 'ure': 2592, 'singapor': 2216, 'pub': 1974, 'tat': 2409, 'yiju': 2814, 'tot': 2516, 'group': 1139, 'mate': 1567, 'mah': 1545, 'askin': 383, 'earlier': 871, 'haf': 1158, 'walk': 2648, 'far': 964, 'angri': 339, 'busi': 539, 'mani': 1555, 'prometazin': 1965, 'syrup': 2396, '5ml': 207, 'feed': 977, 'ice': 1268, 'cream': 719, 'oso': 1807, 'welli': 2685, 'bed': 440, 'kiss': 1404, 'brolli': 517, 'english': 897, '2mrw': 147, 'franxx': 1036, 'hard': 1175, 'express': 949, 'someonethat': 2266, 'hurt': 1260, 'seperatedud': 2161, 'appar': 353, 'bff': 457, 'carli': 578, 'quick': 1989, 'better': 455, 'necessarili': 1694, 'respect': 2065, 'custom': 732, 'offic': 1767, 'discount': 816, 'dunno': 865, 'shd': 2175, 'drive': 851, 'hr': 1250, 'oni': 1786, 'exactli': 932, 'could': 706, 'chechi': 611, 'hand': 1166, 'asda': 377, 'count': 708, 'celebr': 593, 'ooooooh': 1791, 'yovil': 2824, 'ajith': 314, 'film': 991, 'nt': 1747, 'serious': 2162, 'okok': 1777, 'okthenwhat': 1779, 'fight': 987, 'gentl': 1088, 'babi': 414, 'inch': 1290, 'tight': 2476, 'pussi': 1982, 'problem': 1961, 'land': 1429, 'forgt': 1028, 'previou': 1948, 'fell': 981, 'asleep': 385, '5i': 206, 'knacker': 1410, 'dread': 845, 'thou': 2464, 'upto': 2590, 'toopray': 2511, 'meremov': 1592, 'teeth': 2418, 'pain': 1828, 'maintain': 1549, 'squeez': 2311, 'buck': 530, '02070836089': 1, 'sunni': 2375, 'california': 548, 'weather': 2673, 'set': 2165, 'websit': 2674, 'hold': 1229, 'em': 890, 'onlin': 1788, 'spacebuck': 2288, 'entri': 904, 'gr8prize': 1130, 'wkli': 2725, 'comp': 668, 'chanc': 596, 'nokia': 1730, '8800': 253, 'psp': 1972, 'wktxt': 2726, '80878': 234, 'httpwwwgr8prizescom': 1253, '08715705022': 37, 'current': 730, 'lead': 1444, 'bid': 458, '151': 105, 'paus': 1846, 'auction': 399, 'out': 1813, 'care': 574, '08718726270': 42, 'bare': 423, 'stay': 2324, 'sane': 2121, 'constantli': 687, 'konw': 1415, 'waht': 2644, 'rael': 1995, 'gving': 1153, 'yuo': 2827, 'exmpel': 942, 'jsut': 1373, 'ese': 913, 'tih': 2477, 'evrey': 928, 'splle': 2305, 'wrnog': 2759, 'sitll': 2223, 'ra': 1993, 'wihtuot': 2711, 'ayn': 410, 'mitsak': 1618, 'sleepsweet': 2238, 'dream': 846, 'head': 1185, 'him': 1213, 'matter': 1569, 'dog': 827, 'datingi': 751, 'two': 2554, 'these': 2453, 'sport': 2309, 'radio': 1994, 'connect': 684, 'coincid': 655, 'might': 1600, 'final': 992, 'attempt': 396, 'dept': 780, '13404': 91, '08717507382': 38, 'figur': 988, 'suppos': 2381, 'coupl': 709, 'said': 2112, 'wed': 2675, '400': 179, 'comput': 676, 'randomli': 2004, 'loyal': 1520, 'receiv': 2026, '09066380611': 67, '09095350301': 71, 'erot': 910, 'ecstaci': 878, '60pmin': 212, '08712460324': 30, 'nat': 1684, 'rate': 2008, 'mentor': 1591, '100': 73, 'percent': 1856, 'officestil': 1768, 'fill': 990, 'formsdon': 1029, 'yep': 2805, 'program': 1963, 'slack': 2233, 'iouri': 1321, 'wyli': 2784, 'ryan': 2105, 'test': 2433, 'astrolog': 390, 'hmm': 1220, 'red': 2030, 'white': 2703, 'okay': 1773, 'live': 1482, 'simpl': 2212, 'tooo': 2510, 'but': 540, 'difficult': 800, 'aiyo': 313, 'neva': 1702, 'lab': 1424, 'guai': 1143, 'naughti': 1689, 'jog': 1364, 'paragon': 1833, 'whether': 2700, 'cut': 735, 'yet': 2813, 'hee': 1194, 'box': 498, 'sir': 2218, '8hr': 258, 'bu': 529, 'audit': 400, 'parent': 1834, 'kidz': 1399, 'colleagu': 660, 'surpris': 2385, 'sofa': 2259, 'nake': 1681, 'over': 1817, 'room': 2091, 'thanksgiv': 2439, 'without': 2722, 'upcharg': 2584, 'subscrib': 2359, 'textcomp': 2436, 'wk': 2723, 'question': 1988, 'follow': 1017, 'subsequ': 2362, 'charged150pmsg2': 602, '84128custcar': 241, '08712405020': 29, 'cours': 710, 'stink': 2332, 'awak': 405, 'snow': 2254, 'jerk': 1357, 'wanna': 2654, 'birthday': 465, 'feb': 975, 'sound': 2282, 'costum': 704, 'end': 892, 'pride': 1951, 'almost': 324, 'year': 2802, 'old': 1781, 'takin': 2401, 'kid': 1398, 'deal': 758, 'grownup': 1140, 'stuffwhi': 2354, 'garbag': 1076, 'bag': 418, 'jam': 1347, 'bread': 510, 'hannaford': 1170, 'wheat': 2694, 'chex': 619, 'neither': 1699, 'sterm': 2327, 'voic': 2636, 'resolv': 2064, 'fab': 953, 'hol': 1227, 'steyn': 2328, 'wicket': 2706, 'messeng': 1596, 'lik': 1467, 'dude': 858, 'longer': 1499, 'pisc': 1881, 'aquariu': 359, 'sweet': 2391, 'heart': 1190, 'galcan': 1069, 'boyi': 505, 'run': 2103, 'galno': 1071, 'jst': 1372, 'wana': 2653, 'heaven': 1192, 'princegn': 1953, 'sirsalam': 2219, 'alaikkumprid': 316, 'pleasur': 1895, 'tea': 2414, 'shopw': 2192, 'qatarrakhesh': 1984, 'indianpl': 1300, 'save': 2128, 'numberrespect': 1751, 'regard': 2037, 'aah': 267, 'arm': 367, 'rem': 2043, 'correctli': 701, 'topic': 2513, 'kothi': 1417, 'print': 1955, 'marandratha': 1556, 'full': 1057, 'opportun': 1795, 'fyi': 1064, 'south': 2284, 'tampa': 2405, 'somewher': 2271, 'tv': 2551, 'england': 896, 'poli': 1906, 'rington': 2081, 'flag': 1005, 'yer': 2806, 'tone': 2504, '84199': 242, 'optout': 1798, 'eng': 895, 'box39822': 501, 'w111wx': 2641, '150': 93, 'sister': 2220, 'earn': 872, 'favorit': 972, 'oyster': 1822, 'sashimi': 2125, 'stomach': 2335, 'rumbl': 2102, 'kkim': 1408, 'tirunelvali': 2483, 'uncl': 2568, 'amount': 333, 'dress': 849, 'so': 2256, 'moneyi': 1637, 'jolli': 1369, 'ticket': 2475, '730': 221, 'speak': 2291, 'thursday': 2472, 'yay': 2799, 'cheer': 614, 'alright': 328, 'miss': 1614, 'mumha': 1673, 'beendrop': 443, 'theplac': 2450, 'adress': 290, 'macho': 1541, 'budget': 532, 'bb': 430, 'bold': 478, 'saw': 2129, 'dollar': 832, 'can': 560, 'bank': 421, 'fee': 976, 'fix': 1003, 'mr': 1656, 'london': 1496, 'treatin': 2536, 'treacl': 2532, 'chat': 606, 'wit': 2719, 'darl': 745, 'resum': 2070, 'minimum': 1607, 'period': 1859, 'reappli': 2020, 'funer': 1061, 'alex': 320, 'iscom': 1329, 'either': 885, '500': 203, 'cd': 591, 'gift': 1095, 'voucher': 2639, 'weekli': 2681, 'music': 1675, '87066': 249, 'tnc': 2490, 'wwwldewcom1win150ppmx3age16subscript': 2773, 'donno': 835, 'gene': 1086, '09061213237': 54, '5000': 204, 'luxuri': 1533, 'canari': 562, 'await': 404, 'collect': 661, 'sae': 2109, 'po': 1899, '177': 110, 'm227xi': 1537, 'xy': 2793, 'smth': 2251, 'eat': 875, '2u2': 154, 'excel': 934, 'misundrstud': 1616, 'frnd': 1047, 'hate': 1179, 'ull': 2564, 'truth': 2544, 'gn': 1104, 'forget': 1025, 'mine': 1606, 'possess': 1919, 'properti': 1967, 'mmm': 1620, 'childish': 626, 'pretti': 1947, 'weak': 2670, 'membership': 1587, '100000': 76, 'jackpot': 1345, 'word': 2740, '81010': 235, 'wwwdbuknet': 2768, 'lccltd': 1440, '4403ldnw1a7rw18': 187, 'gone': 1115, 'vikki': 2623, 'lttimegt': 1525, 'helloooo': 1201, 'welcom': 2683, 'with': 2720, 'joy': 1371, 'mrng': 1658, '2000': 119, '09061790126': 60, '3030': 160, 'foward': 1032, 'fall': 959, 'ruin': 2100, 'leh': 1453, 'rememb': 2045, 'clearli': 644, 'fault': 970, 'tabl': 2398, 'half': 1163, 'eight': 884, 'latebut': 1434, 'kwish': 1420, 'hellohow': 1200, 'doingwhat': 829, '2when': 156, 'move': 1652, 'flat': 1008, 'arrang': 371, 'lamp': 1428, 'etc': 917, 'carolin': 579, 'not': 1739, 'teethif': 2419, 'asapok': 376, 'wwwtcbiz': 2781, '150pmin': 98, 'polo': 1908, 'ltd': 1522, 'suit': 2370, '373': 167, 'w1j': 2642, '6hl': 217, 'enjoyin': 899, 'moyep': 1653, 'sall': 2117, 'hehe': 1195, 'bout': 497, 'shexi': 2178, 'xx': 2790, 'darlin': 746, 'kate': 1389, 'doin': 828, 'somethin': 2269, 'swan': 2387, 'ni8swt': 1709, 'drmstake': 853, 'storm': 2341, 'lift': 1465, 'phne': 1866, 'wt': 2762, 'real': 2015, 'margaret': 1558, 'girlfrnd': 1098, 'grahmbel': 1132, 'invnt': 1320, 'telphon': 2422, 'moralon': 1643, '4get': 197, 'absolut': 270, 'recent': 2027, 'anyon': 346, 'treadmil': 2533, 'found': 1031, 'ad': 283, 'craigslist': 713, 'sell': 2152, 'swoop': 2395, 'bird': 463, 'cbe': 589, 'chennai': 615, 'usualiam': 2603, 'key': 1395, 'purs': 1981, 'befor': 445, 'dull': 861, 'search': 2139, 'vidnot': 2621, 'finishd': 999, 'dearslp': 760, 'welltak': 2686, 'careswt': 577, 'dreamsmuah': 847, 'eaten': 876, 'stare': 2318, 'juici': 1375, 'pizza': 1885, 'booti': 486, 'temal': 2423, 'teas': 2417, 'simpli': 2213, 'grin': 1137, 'post': 1921, 'prey': 1949, 'devour': 787, 'iq': 1324, 'gudk': 1146, 'chikku': 624, 'tke': 2487, 'jay': 1354, 'ride': 2078, 'someonon': 2267, 'via': 2615, '09064015307': 62, 'box334sk38ch': 500, 'uworld': 2605, 'site': 2222, 'qbank': 1985, 'assess': 387, 'aha': 305, 'chosen': 632, '350': 164, '09066364311': 66, 'valu': 2608, 'realis': 2017, 'bother': 492, 'market': 1561, 'fone': 1018, '08715203656': 34, '42049': 183, '261004': 132, 'remet': 2046, 'nichol': 1711, 'middl': 1598, 'turn': 2550, 'prabhaim': 1929, 'sorydarealyfrm': 2281, 'sori': 2277, 'troubl': 2539, 'pour': 1924, 'rain': 1996, 'sum1': 2371, 'becoz': 439, 'juswok': 1379, 'boatin': 477, 'dock': 824, 'slept': 2239, 'wid': 2707, '25': 127, 'spinout': 2301, 'gossip': 1124, 'l8r': 1422, 'die': 796, 'nightsw': 1714, 'port': 1917, 'liaotoo': 1462, 'jane': 1350, 'wrk': 2757, 'lst': 1521, 'cover': 712, 'chuck': 634, 'march': 1557, 'slowli': 2243, 'more': 1644, 'accident': 275, 'brought': 521, 'ten': 2426, 'rs': 2096, 'shelf': 2177, 'natalja': 1686, '25f': 130, 'invit': 1319, 'yes440': 2808, 'no440': 1724, 'her': 1204, 'wwwsmsacunat27081980': 2779, '62468': 214, 'pa': 1824, 'kkhow': 1407, 'yesterday': 2812, 'dai': 741, 'download': 843, 'exe': 939, 'file': 989, 'instal': 1311, 'hiwhat': 1218, 'match': 1566, 'answer': 343, 'reboot': 2024, 'ym': 2815, 'photo': 1870, 'orang': 1799, 'unlimit': 2580, 'upd8': 2585, 'freefon': 1039, '08000839402': 13, '2stoptxt': 152, 'diff': 798, 'guess': 1147, 'fineabsolutli': 996, 'student': 2349, 'won': 2735, 'costa': 703, 'del': 771, 'sol': 2261, '09050090044': 51, 'toclaim': 2494, 'pobox334': 1902, 'stockport': 2333, 'sk38xh': 2228, '150pm': 96, 'max10min': 1572, 'penc': 1851, 'access': 273, '0844': 18, '861': 245, '85': 243, 'prepay': 1940, 'direct': 810, 'wwwtelediscountcouk': 2782, 'ugh': 2562, 'leg': 1451, 'musta': 1677, 'overdid': 1818, 'mon': 1634, 'she': 2176, 'difficulti': 801, 'request': 2060, 'cheap': 608, 'splash': 2303, 'spook': 2308, 'mob': 1624, 'halloween': 1164, 'logo': 1492, 'pic': 1873, 'eeri': 879, 'card': 573, '8007': 230, 'zed': 2830, '08701417012150p': 24, 'logop': 1493, 'darren': 748, 'awkward': 409, 'lunch': 1530, 'sarasota': 2124, 'muz': 1679, 'chang': 597, 'yan': 2796, 'jiu': 1362, 'record': 2028, 'indic': 1301, 'compens': 670, 'accid': 274, 'had': 1157, 'ree': 2033, 'ipod': 1323, 'pod': 1904, '80182': 232, 'std': 2325, 'appli': 356, '08452810073': 20, 'wrkin': 2758, 'facebook': 955, 'cook': 695, 'rather': 2009, 'salmon': 2118, 'la': 1423, 'mrt': 1659, 'fuuuuck': 1063, 'sleepin': 2236, 'sup': 2377, 'them': 2445, 'rel': 2039, 'de': 756, 'crave': 716, 'ador': 289, 'ahmad': 307, 'hasnt': 1176, 'gentli': 1089, 'brand': 508, '7250': 220, '86021': 244, 'strang': 2342, 'goodenviron': 1118, 'terrif': 2431, 'rajipl': 1999, 'favour': 973, 'convey': 694, 'nimya': 1716, 'water': 2666, 'log': 1490, 'desert': 782, 'geoenvironment': 1091, 'implic': 1283, 'salt': 2119, 'rub': 2099, 'wound': 2752, 'tog': 2497, '3g': 169, 'videophon': 2620, 'your': 2823, '09063458130': 61, 'videochat': 2619, 'java': 1353, 'dload': 820, 'polyph': 1909, 'nolin': 1731, 'rentl': 2053, 'bx420': 544, 'ip4': 1322, '5we': 210, 'skype': 2231, 'nitro': 1719, 'hurri': 1259, 'crash': 715, 'bluray': 475, 'karnan': 1388, 'till': 2479, '6pm': 218, 'directli': 811, 'doctor': 825, 'velusami': 2613, 'birth': 464, 'facil': 956, 'parti': 1838, 'boyfriend': 504, 'si': 2205, 'idk': 1275, 'bawl': 429, 'eye': 951, 'failur': 958, 'nobodi': 1727, 'fail': 957, 'renew': 2050, 'familymay': 961, 'stabil': 2314, 'tranquil': 2528, 'vibrant': 2616, 'kthen': 1419, 'wenev': 2688, 'tel': 2420, 'unintent': 2574, 'finger': 997, 'along': 326, 'fifteen': 986, 'warn': 2657, 'aiyar': 312, 'poor': 1913, 'support': 2379, 'jia': 1360, 'dawher': 754, 'helen': 1196, 'princ': 1952, 'tb': 2412, 'pray': 1934, 'idea': 1271, 'forward': 1030, 'link': 1473, 'no1': 1722, '8077': 233, 'txting': 2558, 'wwwgetzedcouk': 2771, '36504': 166, 'w45wq': 2643, 'norm150pton': 1735, 'imagin': 1280, 'unlik': 2579, 'doc': 823, 'patient': 1843, 'turkey': 2549, 'shut': 2204, 'omg': 1782, 'piss': 1882, 'mark': 1560, 'diaper': 793, 'owe': 1820, 'yoga': 2817, 'near': 1691, 'franki': 1035, 'benni': 452, 'warner': 2658, 'cinema': 636, 'grocer': 1138, 'sday': 2138, 'joinedso': 1366, 'goigng': 1110, 'small': 2245, 'perfum': 1857, 'zero': 2831, 'suck': 2364, 'hair': 1162, 'rose': 2092, 'redr': 2031, 'bloodblood': 471, 'heartheart': 1191, 'ti': 2473, 'includ': 1292, '1u': 116, 'relat': 2040, '2u': 153, '3u': 176, '4some1': 199, 'some1': 2263, 'marri': 1562, 'cuz': 736, 'ibor': 1266, 'okor': 1778, 'cherish': 616, 'mojibiola': 1630, 'workin': 2742, 'orchard': 1800, 'imposs': 1285, 'argu': 365, 'sub': 2358, 'releas': 2042, 'necessari': 1693, 'enufcredeit': 905, 'tocallshal': 2493, 'ileav': 1277, 'yor': 2818, 'oop': 1792, '078': 8, 'cancer': 564, 'aslamalaikkuminsha': 384, 'allah': 323, 'tohar': 2499, 'beeen': 442, 'muht': 1670, 'albi': 317, 'mufti': 1669, 'mahfuuzmean': 1546, 'calm': 554, 'lion': 1474, 'lionm': 1475, 'mono': 1638, 'lionp': 1476, 'wwwringtonescouk': 2774, 'origin': 1805, '3gbp': 170, 'network': 1701, 'oper': 1794, 'argh': 364, 'definit': 770, 'modul': 1629, 'human': 1257, 'di': 790, 'sem': 2153, 'izzit': 1343, 'vco': 2612, '08715205273': 36, 'respons': 2067, 'sign': 2210, 'matur': 1570, 'actual': 282, 'understand': 2570, 'bslvyl': 523, 'ding': 805, 'fassyol': 967, 'blacko': 469, 'londn': 1495, 'wnt': 2729, 'bmw': 476, 'urgentlyit': 2595, 'vri': 2640, 'urgentbut': 2594, 'hv': 1262, 'shortag': 2193, 'lacsther': 1426, 'sourc': 2283, 'arng': 369, 'lacsthat': 1425, 'prob': 1959, 'propsd': 1968, 'gv': 1152, 'lv': 1534, 'lttr': 1526, 'threw': 2468, 'thm': 2461, 'aproach': 358, 'dt': 857, 'truck': 2540, 'speed': 2294, 'toward': 2521, 'wn': 2728, 'hit': 1215, 'girld': 1097, 'ran': 2003, 'hell': 1197, 'hw': 1263, 'cn': 650, 'fast': 968, 'boost': 485, 'secret': 2142, 'energi': 894, 'instantli': 1312, 'shout': 2195, 'our': 1811, 'happili': 1174, '2gthr': 142, 'evrydi': 929, 'moral': 1642, 'msgsd': 1661, 'hassl': 1177, 'weed': 2678, 'andr': 338, 'haughaighgtujhyguj': 1180, 'content': 690, 'order': 1801, 'resent': 2063, 'error': 911, 'queri': 1987, 'customersqueriesnetvisionukcom': 734, 'nap': 1683, 'close': 646, 'confus': 681, 'wrong': 2760, 'sort': 2280, 'themobhit': 2447, 'premium': 1938, 'pink': 1880, 'panther': 1829, 'sugabab': 2367, 'zebra': 2829, 'anim': 340, 'badass': 417, 'hoodi': 1238, 'wallpaperal': 2650, 'write': 2756, 'broke': 516, 'kkthi': 1409, 'kote': 1416, 'shanilrakhesh': 2173, 'herethanksi': 1206, 'exchang': 936, 'uncut': 2569, 'diamond': 792, 'stuffleav': 2353, 'dino': 807, 'prem': 1937, 'gokila': 1112, 'fri': 1042, 'lorgoin': 1505, 'drivin': 852, 'shoppin': 2190, 'tt': 2548, 'activ': 280, 'st': 2313, 'virgil': 2627, 'type': 2560, 'suffer': 2366, 'fever': 983, 'dysentri': 869, 'will': 2713, 'abl': 269, 'cat': 587, 'worm': 2744, 'aiya': 310, 'discuss': 817, 'amaz': 331, 'rearrang': 2021, 'dormitori': 838, 'dirti': 812, 'astronom': 391, 'moon': 1641, 'starer': 2319, 'elect': 887, 'result': 2069, 'lie': 1463, 'recount': 2029, 'motherinlaw': 1648, 'woman': 2734, 'hitler': 1217, 'eleven': 888, 'twelv': 2553, 'bcoz': 432, 'battl': 428, 'vivekanand': 2630, '9t': 265, 'sd': 2137, 'ham': 1165, 'uawakefeellikw': 2561, 'shitjustfound': 2184, 'alett': 319, 'thatmum': 2442, 'gotmarri': 1126, '4thnovbehind': 200, 'ourback': 1812, 'fuckinniceselfishdeviousbitchanywayi': 1056, 'afterward': 298, '3510i': 165, 'deliveredtomorrow': 773, '300': 159, 'camcord': 555, '08000930705': 14, 'flash': 1007, 'madam': 1543, 'glad': 1103, 'disagre': 813, 'contract': 692, 'top': 2512, '200': 118, '09066361921': 65, 'mesag': 1593, 'spree': 2310, 'store': 2339, '88039': 254, 'skilgm': 2229, 'tscs08714740323': 2546, '1winawk': 117, 'age16': 302, '150perweeksub': 95, 'style': 2356, '5p': 208, 'alfi': 321, 'm8': 1538, 'chariti': 603, '08701417012': 23, 'profit': 1962, 'present': 1943, 'rajitha': 2000, 'raj': 1998, 'ranju': 2006, '83039': 237, '62735': 215, 'uk': 2563, 'accommodationvouch': 276, 'term': 2428, 'condit': 677, 'mustprovid': 1678, '15541': 107, 'onword': 1790, 'mtnl': 1666, 'mumbai': 1672, 'cannt': 566, 'listen': 1479, 'transfer': 2529, 'stuck': 2348, 'disturb': 819, 'video': 2618, 'price': 1950, 'rental': 2052, 'mth': 1665, 'cross': 725, 'ntwk': 1748, 'mobileupd8': 1626, '08001950382': 15, 'call2optout674': 550, 'geeeee': 1084, 'internet': 1316, 'eh': 883, '1030': 77, 'bugi': 533, 'pilat': 1878, 'intro': 1317, 'thangam': 2437, 'northampton': 1738, 'afraid': 296, 'skyve': 2232, 'ho': 1226, 'fanci': 962, 'comedi': 665, 'club': 648, 'doubl': 839, 'linerent': 1472, 'bluetooth': 474, 'call2optoutlf56': 551, 'lmao': 1486, 'tick': 2474, 'loneli': 1497, 'pout': 1925, 'stomp': 2336, 'feet': 980, 'italian': 1335, 'vote': 2638, 'guid': 1148, 'hmmmstill': 1224, 'desir': 783, 'liver': 1483, 'stylish': 2357, 'manag': 1554, 'jd': 1355, 'cum': 728, 'execut': 940, 'mail': 1547, 'door': 837, 'yo': 2816, 'jamster': 1349, '88888': 255, '08701213186': 22, 'younger': 2822, 'man': 1553, 'natali': 1685, '20f': 123, 'yes165': 2807, 'no165': 1723, 'wwwsmsacunatalie2k9': 2780, 'clarifi': 640, 'return': 2071, 'prepon': 1941, 'kerala': 1394, 'incred': 1296, 'learn': 1445, 'truli': 2542, 'blow': 473, 'o2fwd': 1760, '18ptxt': 113, 'stage': 2315, 'perumbavoor': 1862, 'dudett': 859, 'vldo': 2633, 'adsens': 292, 'approv': 357, 'inconveni': 1294, 'friday': 1043, 'pongaldo': 1912, 'deepest': 766, 'darkest': 744, 'fantasi': 963, '09094646631': 70, 'chase': 604, '08715203685': 35, 'code4xx26': 654, '131004': 90, 'cashbal': 584, 'maxim': 1573, 'cashin': 586, '86688': 247, '150pmeg': 97, 'cc': 590, '08718720201': 41, 'hgsuite3422land': 1208, 'roww1j6hl': 2094, 'holla': 1234, 'excus': 938, 'creep': 722, 'possibl': 1920, 'dint': 808, 'sad': 2108, 'puppi': 1979, 'nois': 1729, 'while': 2701, '0776xxxxxxx': 7, 'uve': 2604, 'xchat': 2785, '150pmsgrcvdhgsuite3422landsroww1j6hl': 100, 'ldn': 1441, '18yr': 114, 'galsu': 1072, 'nìte': 1757, 'def': 768, 'geeee': 1083, 'tm': 2488, 'attend': 397, 'yr': 2825, 'repres': 2059, '08714712412': 32, '10am7pm': 78, 'rencontr': 2049, 'mountain': 1650, 'numberpl': 1750, 'idconvey': 1270, 'achanammarakheshqatar': 278, 'fool': 1020, 'cheat': 610, 'other': 1808, 'pig': 1877, 'clover': 647, 'whatev': 2693, 'toyota': 2524, 'camri': 559, 'olayiwola': 1780, 'own': 1821, 'mileag': 1602, 'kit': 1405, 'clean': 642, 'for': 1021, 'rais': 1997, 'dough': 841, '4u': 201, 'congratul': 683, '125': 86, 'freeentri': 1038, 'xt': 2788, 'wwwldewcom1win150ppmx3age16': 2772, 'ayo': 411, 'travel': 2531, 'forgotten': 1027, 'punto': 1978, 'woulda': 2751, 'hmph': 1225, 'baller': 420, 'semest': 2154, 'addi': 285, 'monday': 1635, 'read': 2013, 'buz': 542, 'wedlunch': 2676, 'outsomewher': 1815, 'adrink': 291, 'towncud': 2523, '2watershd': 155, 'ppl': 1927, 'fromwrk': 1051, 'bthere': 525, 'petexxx': 1864, 'hungri': 1258, 'eta': 916, 'taunton': 2410, '1230': 85, 'okday': 1774, 'phoni': 1869, 'voda': 2634, 'xxxx': 2792, '08712300220': 28, 'quot': 1992, '3100': 161, 'standard': 2317, 'app': 352, 'coulda': 707, 'valentin': 2606, 'wasnt': 2661, 'channel': 598, 'rush': 2104, 'goldvik': 1113, '29m': 138, 'yes762': 2809, 'no762': 1725, 'wwwsmsacugoldvik': 2777, 'thinkthi': 2459, 'danger': 743, 'spoil': 2306, 'jade': 1346, 'paul': 1845, 'didn': 794, 'barm': 424, 'father': 969, 'frndship': 1048, 'gorgeou': 1123, 'pix': 1884, 'yar': 2797, 'ago': 303, 'bath': 427, 'shower': 2198, 'garag': 1075, 'collaps': 659, 'univers': 2577, 'hospit': 1241, 'msn': 1664, 'abt': 271, 'xuhui': 2789, 'cme': 649, '2morow': 144, 'futur': 1062, 'donat': 833, 'unicef': 2573, 'asian': 380, 'tsunami': 2547, 'disast': 815, 'fund': 1060, '864233': 246, '09058094507': 52, 'mall': 1552, 'kaila': 1383, 'holder': 1230, 'meal': 1578, 'pc': 1848, 'dine': 804, 'experiencehttpwwwvouch4mecometlpdiningasp': 945, 'hppnss': 1249, 'tear': 2416, 'sorrow': 2279, 'forevr': 1024, 'goodfriend': 1119, 'dado': 740, 'earli': 870, '96': 262, 'viveki': 2631, 'ahhhhjust': 306, 'woken': 2733, 'uphad': 2587, 'thoso': 2463, 'sale': 2115, 'bf': 456, 'lost': 1509, 'woot': 2738, 'stuf': 2351, 'benefit': 451, 'special': 2292, 'advisor': 295, 'diall': 791, '402': 180, 'bloodi': 472, 'mo': 1623, 'ortxt': 1806, 'jess': 1358, 'jame': 1348, 'fart': 966, 'calicut': 547, 'ami': 332, 'adult': 293, '08006344447': 17, 'secur': 2144, 'lemm': 1455, 'chill': 629, 'assum': 389, 'maili': 1548, 'varma': 2611, 'kept': 1393, 'copi': 699, 'membershiptak': 1588, 'careinsha': 576, 'eatin': 877, 'deer': 767, 'b4': 412, 'chapel': 599, 'frontiervil': 1053, 'tomarrow': 2502, 'court': 711, 'ltdecimalgt': 1523, 'stand': 2316, 'cancel': 563, 'kkcongratul': 1406, 'ever': 922, 'startedindia': 2321, 'yummi': 2826, 'lip': 1477, 'sexi': 2168, 'bun': 537, 'sexychat': 2169, 'wrc': 2754, 'ralli': 2001, 'oz': 1823, 'lucozad': 1528, 'le': 1443, '61200': 213, '25p': 131, 'pack': 1825, 'lucozadecoukwrc': 1529, 'itcould': 1336, 'wasn': 2660, 'art': 373, 'tortur': 2515, 'noe': 1728, 'normal': 1736, 'yah': 2795, 'haha': 1159, 'urgnt': 2596, 'wate': 2665, 'hearin': 1189, 'evng': 927, 'confirmdeni': 680, 'mu': 1667, 'everyon': 925, '08712101358': 27, 'off': 1764, 'omw': 1783, 'took': 2508, 'hooch': 1237, 'toaday': 2492, 'splat': 2304, 'graze': 1134, 'knee': 1411, 'flaki': 1006, 'itsnot': 1339, 'child': 625, 'parentnot': 1835, 'theyr': 2454, 'age': 301, 'nonetheless': 1733, 'goal': 1107, 'arsen': 372, 'henri': 1203, 'liverpool': 1484, 'score': 2133, 'shot': 2194, 'yard': 2798, 'pass': 1839, 'bergkamp': 453, 'margin': 1559, '78': 225, 'tirupur': 2484, 'dentist': 779, 'regret': 2038, 'inform': 1306, 'nh': 1707, 'mistakeu': 1615, 'bornpleas': 489, 'report': 2058, 'local': 1488, '2b': 139, 'terminatedw': 2429, 'solihul': 2262, 'villag': 2624, '83118': 238, 'colin': 658, 'farrel': 965, 'swat': 2389, 'wkend': 2724, 'popcornjust': 1916, 'msgticketkioskvalid': 1663, '4712': 192, 'kiosk': 1403, 'mre': 1657, 'wrote': 2761, 'ritten': 2085, 'fold': 1015, 'laundri': 1438, 'polyphon': 1910, 'super': 2378, '87131': 250, 'sn': 2252, 'pobox202': 1901, 'nr31': 1746, '7z': 228, 'subscript': 2361, '450pw': 190, 'taka': 2399, 'ou': 1810, '40gb': 182, 'mp3': 1654, '83355': 240, 'ibhltd': 1264, 'ldnw15h': 1442, '150pmtmsgrcvd18': 101, 'sake': 2113, 'tallahasse': 2403, 'handset': 1168, 'anytim': 349, 'miser': 1612, 'control': 693, 'massiv': 1564, 'gut': 1150, 'wrench': 2755, 'cramp': 714, 'spent': 2296, 'chastiti': 605, 'devic': 786, 'beat': 436, 'loung': 1516, 'japanes': 1351, 'proverb': 1970, 'none': 1732, 'itu': 1340, 'version': 2614, 'itleav': 1338, 'strike': 2347, 'note': 1740, 'expos': 948, 'vodafon': 2635, '4882': 193, '09064019014': 64, '6time': 219, 'antibiot': 344, 'chest': 618, 'abdomen': 268, 'gyna': 1155, 'infect': 1303, 'bone': 480, 'theori': 2449, 'argument': 366, 'situat': 2224, 'lose': 1507, 'just': 1378, 'kick': 1397, 'correct': 700, 'usual': 2602, '10': 72, 'whenwher': 2697, 'tyler': 2559, 'minor': 1608, 'crisi': 724, 'sooner': 2275, 'click': 645, 'list': 1478, 'pie': 1876, 'pt2': 1973, '87575': 252, 'txtin': 2557, '150ptone': 104, 'hl': 1219, '4info': 198, 'happiest': 1173, 'charact': 600, 'dey': 788, 'lyricalladie21f': 1535, 'yes910': 2810, 'no910': 1726, 'wwwsmsacuhmmross': 2778, 'feelin': 979, 'wuld': 2763, 'nuther': 1752, 'cruis': 726, 'gek1510': 1085, 'dip': 809, 'dead': 757, 'respond': 2066, 'tension': 2427, 'innoc': 1308, '5terror': 209, '6cruel': 216, '7romant': 227, '8lovabl': 259, '9decent': 264, 'joker': 1368, 'cartoon': 582, 'templ': 2425, 'church': 635, 'okey': 1775, 'dokey': 830, 'swashbuckl': 2388, 'loooooool': 1502, 'sens': 2157, 'refer': 2035, 'couch': 705, 'rent': 2051, 'lit': 1480, 'fire': 1000, 'datoday': 752, 'playi': 1893, 'cla': 638, 'housew': 1247, '08717507711': 39, 'btnation': 526, '10pmin': 81, 'messagethank': 1595, '150pmsgrcvd': 99, 'customercar': 733, 'lovli': 1518, 'weapon': 2671, 'occupi': 1762, 'nightswt': 1715, 'dreamstak': 848, 'breath': 512, 'neck': 1695, 'track': 2525, 'usf': 2601, 'bomb': 479, 'stretch': 2346, 'north': 1737, 'carolina': 580, 'texa': 2434, 'atm': 394, 'gre': 1135, 'gain': 1067, 'wifedont': 2710, 'demand': 775, 'iti': 1337, 'husband': 1261, 'toolet': 2509, 'instead': 1313, 'sthi': 2329, 'increas': 1295, 'escap': 912, 'theatr': 2444, 'kavalan': 1390, 'ashley': 379, 'inshah': 1309, '09061743386': 58, 'awesom': 408, 'hmmm': 1221, 'area': 363, 'hotel': 1244, '08715203652': 33, '42810': 184, '29100': 137, 'issu': 1333, 'photoshop': 1871, 'down': 842, '2geva': 141, 'pee': 1850, 'burn': 538, 'tonit': 2506, '2004': 121, '89545': 256, 'www4tcbiz': 2764, '2optout': 150, '08718726270150gbpmtmsg18': 43, 'txtauction': 2556, 'rat': 2007, 'theme': 2446, 'checkmat': 613, 'chess': 617, 'persian': 1860, 'phrase': 1872, 'shah': 2170, 'maat': 1539, 'the': 2443, 'king': 1402, 'goodmorn': 1120, 'defer': 769, 'admiss': 288, 'tire': 2482, 'tap': 2407, 'spile': 2300, 'seven': 2166, 'broad': 515, 'canal': 561, 'winner': 2717, 'ave': 403, 'flight': 1011, '0871277810710pmin': 31, 'smsshsexnetun': 2250, 'fgkslpopw': 985, 'fgkslpo': 984, 'smaller': 2246, 'capac': 569, 'paper': 1831, 'too': 2507, 'forev': 1023, 'prescript': 1942, 'valuabl': 2609, 'second': 2141, 'loos': 1503, 'meh': 1585, 'ummmmmaah': 2566, 'swing': 2393, 'admin': 287, 'build': 534, 'slightli': 2241, 'honey': 1236, 'predict': 1935, 'poorli': 1914, 'punish': 1977, 'worst': 2747, 'brb': 509, 'kill': 1400, 'oga': 1770, '0784987': 11, '786': 226, 'bonu': 482, '08719180219': 48, '45239': 191, '060505': 4, 'delay': 772, 'limp': 1470, 'aa': 266, 'exhaust': 941, 'hang': 1169, 'revers': 2073, 'mathemat': 1568, 'flirt': 1013, 'paperwork': 1832, 'nervou': 1700, 'boss': 490, 'were': 2690, 'quarter': 1986, '09077818151': 69, 'calls150ppm': 553, '3min': 172, 'wwwsantacallingcom': 2775, '900': 261, '09061702893': 57, 'doll': 831, 'patrick': 1844, 'swayz': 2390, 'touch': 2518, 'heavili': 1193, 'opposit': 1796, 'fli': 1010, 'holi': 1231, 'christ': 633, '09066649731from': 68, 'complimentari': 675, 'ibiza': 1265, '10000': 75, '434': 186, 'sk3': 2227, '8wp': 260, 'inde': 1297, 'boston': 491, 'realiz': 2018, 'nyc': 1755, 'senthil': 2160, 'hsbc': 1251, 'miwa': 1619, 'jiayin': 1361, 'karaok': 1387, 'sen': 2155, 'financ': 993, 'deni': 777, 'mina': 1604, 'pop': 1915, 'complac': 672, 'seem': 2148, 'sight': 2209, 'remain': 2044, 'shja': 2186, 'instruct': 1314, 'road': 2086, 'wwwfullonsmscom': 2769, 'fullonsmscom': 1058, 'hii': 1211, 'lou': 1514, 'goodnit': 1122, 'shame': 2172, 'came': 556, 'gailxx': 1066, 'watev': 2667, 'built': 535, 'atlast': 393, 'iz': 1342, 'lonlin': 1500, 'lotz': 1513, 'memori': 1589, 'avail': 402, 'uniqu': 2575, 'user': 2600, '1172': 82, 'remov': 2048, '87239': 251, '08708034412': 26, 'cup': 729, 'hitechn': 1216, 'supportprovid': 2380, 'assist': 388, 'prepar': 1939, '140': 92, 'ardé': 362, 'rest': 2068, '180': 112, 'leastwhich': 1447, 'bedrm': 441, 'continu': 691, 'enter': 902, 'in2': 1288, 'presid': 1944, 'an': 337, '80082': 231, '09061790121': 59, 'kappa': 1386, 'stressful': 2345, 'add': 284, 'canteen': 568, 'cashbincouk': 585, 'wwwcashbincouk': 2765, 'biggest': 460, 'applebe': 355, 'coolmob': 697, 'frogaxel': 1049, 'akonlon': 315, 'black': 468, 'eyeddont': 952, 'darlinim': 747, 'bday': 434, '2morrow': 145, 'soonxxx': 2276, 'hide': 1210, 'thousand': 2467, 'n8': 1680, 'pin': 1879, 'orh': 1803, '09061221066': 56, 'fromm': 1050, '28': 135, 'be': 435, 'weird': 2682, 'bein': 446, 'woah': 2730, 'exact': 931, 'ovulatewhen': 1819, '3wk': 177, 'fret': 1041, 'past': 1842, 'histori': 1214, 'bbdtht': 431, 'dvg': 868, 'coldheard': 657, 'tht': 2471, 'vinobanagar': 2625, 'violenc': 2626, 'conditionand': 678, 'ru': 2098, 'offens': 1765, 'kafter': 1382, 'placement': 1888, 'space': 2287, 'invad': 1318, 'orig': 1804, 'arcad': 360, 'consol': 686, 'press': 1946, 'wap': 2656, 'o2coukgam': 1759, 'purchas': 1980, 'shijutta': 2180, 'success': 2363, 'xin': 2786, 'hostel': 1242, 'keng': 1392, 'rock': 2088, 'ash': 378, 'career': 575, 'indyarockscom': 1302, 'phonebook': 1868, 'cameravideo': 558, 'minstext': 1609, 'jason': 1352, 'therel': 2452, 'shindig': 2181, 'rayman': 2010, 'golf': 1114, 'activ8': 281, 'termsappli': 2430, 'peach': 1849, 'cake': 545, 'tast': 2408, 'lush': 1531, 'section': 2143, 'clearer': 643, 'atlanta': 392, 'switch': 2394, 'whole': 2705, 'isnt': 1332, 's8': 2106, 'enuff': 906, 'scrape': 2135, 'barrel': 425, 'social': 2258, 'misfit': 1613, 'hot': 1243, 'sticki': 2330, 'vl': 2632, 'givit': 1102, 'kanoanyway': 1385, 'salari': 2114, 'torch': 2514, '2bold': 140, 'tour': 2520, 'packag': 1826, 'wow': 2753, 'healthi': 1186, 'airport': 309, 'rd': 2011, 'mmmmmmm': 1621, 'snuggl': 2255, 'sigh': 2208, 'whisper': 2702, 'foley': 1016, 'excit': 937, 'wwwwin82050couk': 2783, 'dawhat': 753, 'dumb': 862, '07808726822': 10, 'caller': 552, '020903': 3, '08718729758': 45, 'box95qu': 502, 'pap': 1830, 'load': 1487, 'sugar': 2368, 'tessypl': 2432, 'favor': 971, 'nimyapl': 1717, 'dnt': 821, 'shija': 2179, 'capit': 570, 'ladi': 1427, 'surli': 2384, 'review': 2074, 'hmmmbut': 1222, 'paid': 1827, 'shitload': 2185, 'sri': 2312, 'dajst': 742, 'nw': 1754, 'bw': 543, 'wewa': 2691, '130': 89, 'iriv': 1325, '255': 129, '128': 87, 'mb': 1576, 'chloe': 630, 'smash': 2248, 'sp': 2286, 'visionsmscom': 2628, '150ptext': 103, 'announc': 341, 'unabl': 2567, '07099833605': 6, 'reschedul': 2062, 'ref9280114': 2034, 'msgsometext': 1662, 'born': 488, 'idiot': 1274, 'competit': 671, 'becom': 438, 'freind': 1040, 'reali': 2016, 'soz': 2285, 'imat': 1281, '2moro': 143, 'nottel': 1742, 'softwar': 2260, 'robinson': 2087, 'swim': 2392, 'genu': 1090, 'infront': 1307, 'appi': 354, 'fizz': 1004, 'contain': 689, '08718738002': 47, '48922': 194, '211104': 125, 'prasanth': 1933, 'ettan': 919, 'mother': 1647, 'spice': 2297, 'aftr': 299, 'decad': 761, 'beer': 444, 'cheaper': 609, 'petrol': 1865, 'gover': 1128, 'expect': 943, 'protect': 1969, 'ethreat': 918, 'sib': 2206, 'sensit': 2158, 'passwordsatmsm': 1841, 'thru': 2470, 'password': 1840, 'anybodi': 345, 'creat': 720, 'gap': 1074, 'btwn': 528, 'plz': 1897, 'din': 803, 'lock': 1489, 'keypad': 1396, 'rip': 2083, 'wwwclubmobycom': 2766, '08717509990': 40, 'polytruepixringtonesgam': 1911, 'six': 2226, 'anythi': 348, 'distanc': 818, 'captain': 571, 'vijaykanth': 2622, 'tvhe': 2552, 'drunken': 856, 'morphin': 1646, 'gay': 1080, 'firmwar': 1001, 'hella': 1198, 'grand': 1133, 'natur': 1688, 'galileo': 1070, 'sunday': 2374, '7634': 223, '7684': 224, '169': 109, '6031': 211, '10am9pm': 79, 'presnt': 1945, 'bcz': 433, 'mi': 1597, 'jeevithathil': 1356, 'irulina': 1327, 'neekunna': 1697, 'prakasamanu': 1932, 'sneham': 2253, 'prakasam': 1931, 'ennal': 900, 'prabha': 1928, 'mn': 1622, 'islov': 1331, 'ceil': 592, 'understood': 2571, 'upon': 2589, 'fuckin': 1055, 'showr': 2199, 'nvm': 1753, 'shoe': 2188, 'bottom': 494, 'oredi': 1802, 'sunshin': 2376, 'quiz': 1991, 'dvd': 867, 'cannam': 565, 'australia': 401, 'mquiz': 1655, '82277': 236, 'favourit': 974, 'nearli': 1692, 'rang': 2005, '430': 185, 'pend': 1852}\n"
          ]
        }
      ]
    },
    {
      "cell_type": "markdown",
      "source": [
        "## TF-IDF representation"
      ],
      "metadata": {
        "id": "Z-JkmOrr7l_x"
      }
    },
    {
      "cell_type": "code",
      "source": [
        "tfidf_vectorizer = TfidfVectorizer()\n",
        "X_train_tfidf = tfidf_vectorizer.fit_transform(train_df['Message_body'])\n",
        "X_test_tfidf = tfidf_vectorizer.transform(test_df['Message_body'])\n",
        "print(tfidf_vectorizer.idf_) #IDF for all words in the vocabulary\n",
        "print(tfidf_vectorizer.get_feature_names_out()) #All words in the vocabulary.\n"
      ],
      "metadata": {
        "colab": {
          "base_uri": "https://localhost:8080/"
        },
        "id": "uvgMTZc_7tRZ",
        "outputId": "817718bd-b6e0-47ba-d59d-f3066ddc7375"
      },
      "execution_count": 38,
      "outputs": [
        {
          "output_type": "stream",
          "name": "stdout",
          "text": [
            "[7.1717006  7.1717006  7.1717006  ... 7.1717006  6.76623549 7.1717006 ]\n",
            "['0121' '02070836089' '02073162414' ... 'zebra' 'zed' 'zero']\n"
          ]
        }
      ]
    },
    {
      "cell_type": "markdown",
      "source": [
        "## Display Bag of Words and TF-IDF representations"
      ],
      "metadata": {
        "id": "QbfogSaX7wA5"
      }
    },
    {
      "cell_type": "code",
      "source": [
        "print(\"\\nBag of Words representation (first 5 rows):\\n\", pd.DataFrame(X_train_bow.toarray(), columns=count_vectorizer.get_feature_names_out()).head())\n",
        "print(\"\\nTF-IDF representation (first 5 rows):\\n\", pd.DataFrame(X_train_tfidf.toarray(), columns=tfidf_vectorizer.get_feature_names_out()).head())"
      ],
      "metadata": {
        "colab": {
          "base_uri": "https://localhost:8080/"
        },
        "id": "8zwAwzb474ns",
        "outputId": "7b38d0fd-b642-4a0b-d766-4a90f547fc29"
      },
      "execution_count": 39,
      "outputs": [
        {
          "output_type": "stream",
          "name": "stdout",
          "text": [
            "\n",
            "Bag of Words representation (first 5 rows):\n",
            "    0121  02070836089  02073162414  020903  060505  061104  07099833605  \\\n",
            "0     0            0            0       0       0       0            0   \n",
            "1     0            0            0       0       0       0            0   \n",
            "2     0            0            0       0       0       0            0   \n",
            "3     0            0            0       0       0       0            0   \n",
            "4     0            0            0       0       0       0            0   \n",
            "\n",
            "   0776xxxxxxx  078  07808247860  ...  younger  your  yovil  yr  yummi  yuo  \\\n",
            "0            0    0            0  ...        0     0      0   0      0    0   \n",
            "1            0    0            0  ...        0     0      0   0      0    0   \n",
            "2            0    0            0  ...        0     0      0   0      0    0   \n",
            "3            0    0            0  ...        0     0      0   0      0    0   \n",
            "4            0    0            0  ...        0     0      0   0      0    0   \n",
            "\n",
            "   yup  zebra  zed  zero  \n",
            "0    0      0    0     0  \n",
            "1    0      0    0     0  \n",
            "2    0      0    0     0  \n",
            "3    0      0    0     0  \n",
            "4    0      0    0     0  \n",
            "\n",
            "[5 rows x 2832 columns]\n",
            "\n",
            "TF-IDF representation (first 5 rows):\n",
            "    0121  02070836089  02073162414  020903  060505  061104  07099833605  \\\n",
            "0   0.0          0.0          0.0     0.0     0.0     0.0          0.0   \n",
            "1   0.0          0.0          0.0     0.0     0.0     0.0          0.0   \n",
            "2   0.0          0.0          0.0     0.0     0.0     0.0          0.0   \n",
            "3   0.0          0.0          0.0     0.0     0.0     0.0          0.0   \n",
            "4   0.0          0.0          0.0     0.0     0.0     0.0          0.0   \n",
            "\n",
            "   0776xxxxxxx  078  07808247860  ...  younger  your  yovil   yr  yummi  yuo  \\\n",
            "0          0.0  0.0          0.0  ...      0.0   0.0    0.0  0.0    0.0  0.0   \n",
            "1          0.0  0.0          0.0  ...      0.0   0.0    0.0  0.0    0.0  0.0   \n",
            "2          0.0  0.0          0.0  ...      0.0   0.0    0.0  0.0    0.0  0.0   \n",
            "3          0.0  0.0          0.0  ...      0.0   0.0    0.0  0.0    0.0  0.0   \n",
            "4          0.0  0.0          0.0  ...      0.0   0.0    0.0  0.0    0.0  0.0   \n",
            "\n",
            "   yup  zebra  zed  zero  \n",
            "0  0.0    0.0  0.0   0.0  \n",
            "1  0.0    0.0  0.0   0.0  \n",
            "2  0.0    0.0  0.0   0.0  \n",
            "3  0.0    0.0  0.0   0.0  \n",
            "4  0.0    0.0  0.0   0.0  \n",
            "\n",
            "[5 rows x 2832 columns]\n"
          ]
        }
      ]
    },
    {
      "cell_type": "markdown",
      "source": [
        "# Task 4: Model Training\n"
      ],
      "metadata": {
        "id": "V2hbUqmY77Oq"
      }
    },
    {
      "cell_type": "markdown",
      "source": [
        "# Train SVM model after applying Bag of words"
      ],
      "metadata": {
        "id": "p-J8-0S_8EU-"
      }
    },
    {
      "cell_type": "code",
      "source": [
        "svm_bow_model = SVC()\n",
        "svm_bow_model.fit(X_train_bow, train_df['Label'])"
      ],
      "metadata": {
        "colab": {
          "base_uri": "https://localhost:8080/",
          "height": 75
        },
        "id": "qRyiSfdu8P56",
        "outputId": "fdf8f749-3c7b-4693-d2de-3307aa1a12e9"
      },
      "execution_count": 40,
      "outputs": [
        {
          "output_type": "execute_result",
          "data": {
            "text/plain": [
              "SVC()"
            ],
            "text/html": [
              "<style>#sk-container-id-1 {color: black;background-color: white;}#sk-container-id-1 pre{padding: 0;}#sk-container-id-1 div.sk-toggleable {background-color: white;}#sk-container-id-1 label.sk-toggleable__label {cursor: pointer;display: block;width: 100%;margin-bottom: 0;padding: 0.3em;box-sizing: border-box;text-align: center;}#sk-container-id-1 label.sk-toggleable__label-arrow:before {content: \"▸\";float: left;margin-right: 0.25em;color: #696969;}#sk-container-id-1 label.sk-toggleable__label-arrow:hover:before {color: black;}#sk-container-id-1 div.sk-estimator:hover label.sk-toggleable__label-arrow:before {color: black;}#sk-container-id-1 div.sk-toggleable__content {max-height: 0;max-width: 0;overflow: hidden;text-align: left;background-color: #f0f8ff;}#sk-container-id-1 div.sk-toggleable__content pre {margin: 0.2em;color: black;border-radius: 0.25em;background-color: #f0f8ff;}#sk-container-id-1 input.sk-toggleable__control:checked~div.sk-toggleable__content {max-height: 200px;max-width: 100%;overflow: auto;}#sk-container-id-1 input.sk-toggleable__control:checked~label.sk-toggleable__label-arrow:before {content: \"▾\";}#sk-container-id-1 div.sk-estimator input.sk-toggleable__control:checked~label.sk-toggleable__label {background-color: #d4ebff;}#sk-container-id-1 div.sk-label input.sk-toggleable__control:checked~label.sk-toggleable__label {background-color: #d4ebff;}#sk-container-id-1 input.sk-hidden--visually {border: 0;clip: rect(1px 1px 1px 1px);clip: rect(1px, 1px, 1px, 1px);height: 1px;margin: -1px;overflow: hidden;padding: 0;position: absolute;width: 1px;}#sk-container-id-1 div.sk-estimator {font-family: monospace;background-color: #f0f8ff;border: 1px dotted black;border-radius: 0.25em;box-sizing: border-box;margin-bottom: 0.5em;}#sk-container-id-1 div.sk-estimator:hover {background-color: #d4ebff;}#sk-container-id-1 div.sk-parallel-item::after {content: \"\";width: 100%;border-bottom: 1px solid gray;flex-grow: 1;}#sk-container-id-1 div.sk-label:hover label.sk-toggleable__label {background-color: #d4ebff;}#sk-container-id-1 div.sk-serial::before {content: \"\";position: absolute;border-left: 1px solid gray;box-sizing: border-box;top: 0;bottom: 0;left: 50%;z-index: 0;}#sk-container-id-1 div.sk-serial {display: flex;flex-direction: column;align-items: center;background-color: white;padding-right: 0.2em;padding-left: 0.2em;position: relative;}#sk-container-id-1 div.sk-item {position: relative;z-index: 1;}#sk-container-id-1 div.sk-parallel {display: flex;align-items: stretch;justify-content: center;background-color: white;position: relative;}#sk-container-id-1 div.sk-item::before, #sk-container-id-1 div.sk-parallel-item::before {content: \"\";position: absolute;border-left: 1px solid gray;box-sizing: border-box;top: 0;bottom: 0;left: 50%;z-index: -1;}#sk-container-id-1 div.sk-parallel-item {display: flex;flex-direction: column;z-index: 1;position: relative;background-color: white;}#sk-container-id-1 div.sk-parallel-item:first-child::after {align-self: flex-end;width: 50%;}#sk-container-id-1 div.sk-parallel-item:last-child::after {align-self: flex-start;width: 50%;}#sk-container-id-1 div.sk-parallel-item:only-child::after {width: 0;}#sk-container-id-1 div.sk-dashed-wrapped {border: 1px dashed gray;margin: 0 0.4em 0.5em 0.4em;box-sizing: border-box;padding-bottom: 0.4em;background-color: white;}#sk-container-id-1 div.sk-label label {font-family: monospace;font-weight: bold;display: inline-block;line-height: 1.2em;}#sk-container-id-1 div.sk-label-container {text-align: center;}#sk-container-id-1 div.sk-container {/* jupyter's `normalize.less` sets `[hidden] { display: none; }` but bootstrap.min.css set `[hidden] { display: none !important; }` so we also need the `!important` here to be able to override the default hidden behavior on the sphinx rendered scikit-learn.org. See: https://github.com/scikit-learn/scikit-learn/issues/21755 */display: inline-block !important;position: relative;}#sk-container-id-1 div.sk-text-repr-fallback {display: none;}</style><div id=\"sk-container-id-1\" class=\"sk-top-container\"><div class=\"sk-text-repr-fallback\"><pre>SVC()</pre><b>In a Jupyter environment, please rerun this cell to show the HTML representation or trust the notebook. <br />On GitHub, the HTML representation is unable to render, please try loading this page with nbviewer.org.</b></div><div class=\"sk-container\" hidden><div class=\"sk-item\"><div class=\"sk-estimator sk-toggleable\"><input class=\"sk-toggleable__control sk-hidden--visually\" id=\"sk-estimator-id-1\" type=\"checkbox\" checked><label for=\"sk-estimator-id-1\" class=\"sk-toggleable__label sk-toggleable__label-arrow\">SVC</label><div class=\"sk-toggleable__content\"><pre>SVC()</pre></div></div></div></div></div>"
            ]
          },
          "metadata": {},
          "execution_count": 40
        }
      ]
    },
    {
      "cell_type": "markdown",
      "source": [
        "# Train SVM model after applying TF-IDF\n"
      ],
      "metadata": {
        "id": "XKFAcFQq8STn"
      }
    },
    {
      "cell_type": "code",
      "source": [
        "svm_tfidf_model = SVC()\n",
        "svm_tfidf_model.fit(X_train_tfidf, train_df['Label'])"
      ],
      "metadata": {
        "colab": {
          "base_uri": "https://localhost:8080/",
          "height": 75
        },
        "id": "Rgsi3gVG8UgP",
        "outputId": "5657fbc1-63a2-4032-8c06-ea364c04ac13"
      },
      "execution_count": 41,
      "outputs": [
        {
          "output_type": "execute_result",
          "data": {
            "text/plain": [
              "SVC()"
            ],
            "text/html": [
              "<style>#sk-container-id-2 {color: black;background-color: white;}#sk-container-id-2 pre{padding: 0;}#sk-container-id-2 div.sk-toggleable {background-color: white;}#sk-container-id-2 label.sk-toggleable__label {cursor: pointer;display: block;width: 100%;margin-bottom: 0;padding: 0.3em;box-sizing: border-box;text-align: center;}#sk-container-id-2 label.sk-toggleable__label-arrow:before {content: \"▸\";float: left;margin-right: 0.25em;color: #696969;}#sk-container-id-2 label.sk-toggleable__label-arrow:hover:before {color: black;}#sk-container-id-2 div.sk-estimator:hover label.sk-toggleable__label-arrow:before {color: black;}#sk-container-id-2 div.sk-toggleable__content {max-height: 0;max-width: 0;overflow: hidden;text-align: left;background-color: #f0f8ff;}#sk-container-id-2 div.sk-toggleable__content pre {margin: 0.2em;color: black;border-radius: 0.25em;background-color: #f0f8ff;}#sk-container-id-2 input.sk-toggleable__control:checked~div.sk-toggleable__content {max-height: 200px;max-width: 100%;overflow: auto;}#sk-container-id-2 input.sk-toggleable__control:checked~label.sk-toggleable__label-arrow:before {content: \"▾\";}#sk-container-id-2 div.sk-estimator input.sk-toggleable__control:checked~label.sk-toggleable__label {background-color: #d4ebff;}#sk-container-id-2 div.sk-label input.sk-toggleable__control:checked~label.sk-toggleable__label {background-color: #d4ebff;}#sk-container-id-2 input.sk-hidden--visually {border: 0;clip: rect(1px 1px 1px 1px);clip: rect(1px, 1px, 1px, 1px);height: 1px;margin: -1px;overflow: hidden;padding: 0;position: absolute;width: 1px;}#sk-container-id-2 div.sk-estimator {font-family: monospace;background-color: #f0f8ff;border: 1px dotted black;border-radius: 0.25em;box-sizing: border-box;margin-bottom: 0.5em;}#sk-container-id-2 div.sk-estimator:hover {background-color: #d4ebff;}#sk-container-id-2 div.sk-parallel-item::after {content: \"\";width: 100%;border-bottom: 1px solid gray;flex-grow: 1;}#sk-container-id-2 div.sk-label:hover label.sk-toggleable__label {background-color: #d4ebff;}#sk-container-id-2 div.sk-serial::before {content: \"\";position: absolute;border-left: 1px solid gray;box-sizing: border-box;top: 0;bottom: 0;left: 50%;z-index: 0;}#sk-container-id-2 div.sk-serial {display: flex;flex-direction: column;align-items: center;background-color: white;padding-right: 0.2em;padding-left: 0.2em;position: relative;}#sk-container-id-2 div.sk-item {position: relative;z-index: 1;}#sk-container-id-2 div.sk-parallel {display: flex;align-items: stretch;justify-content: center;background-color: white;position: relative;}#sk-container-id-2 div.sk-item::before, #sk-container-id-2 div.sk-parallel-item::before {content: \"\";position: absolute;border-left: 1px solid gray;box-sizing: border-box;top: 0;bottom: 0;left: 50%;z-index: -1;}#sk-container-id-2 div.sk-parallel-item {display: flex;flex-direction: column;z-index: 1;position: relative;background-color: white;}#sk-container-id-2 div.sk-parallel-item:first-child::after {align-self: flex-end;width: 50%;}#sk-container-id-2 div.sk-parallel-item:last-child::after {align-self: flex-start;width: 50%;}#sk-container-id-2 div.sk-parallel-item:only-child::after {width: 0;}#sk-container-id-2 div.sk-dashed-wrapped {border: 1px dashed gray;margin: 0 0.4em 0.5em 0.4em;box-sizing: border-box;padding-bottom: 0.4em;background-color: white;}#sk-container-id-2 div.sk-label label {font-family: monospace;font-weight: bold;display: inline-block;line-height: 1.2em;}#sk-container-id-2 div.sk-label-container {text-align: center;}#sk-container-id-2 div.sk-container {/* jupyter's `normalize.less` sets `[hidden] { display: none; }` but bootstrap.min.css set `[hidden] { display: none !important; }` so we also need the `!important` here to be able to override the default hidden behavior on the sphinx rendered scikit-learn.org. See: https://github.com/scikit-learn/scikit-learn/issues/21755 */display: inline-block !important;position: relative;}#sk-container-id-2 div.sk-text-repr-fallback {display: none;}</style><div id=\"sk-container-id-2\" class=\"sk-top-container\"><div class=\"sk-text-repr-fallback\"><pre>SVC()</pre><b>In a Jupyter environment, please rerun this cell to show the HTML representation or trust the notebook. <br />On GitHub, the HTML representation is unable to render, please try loading this page with nbviewer.org.</b></div><div class=\"sk-container\" hidden><div class=\"sk-item\"><div class=\"sk-estimator sk-toggleable\"><input class=\"sk-toggleable__control sk-hidden--visually\" id=\"sk-estimator-id-2\" type=\"checkbox\" checked><label for=\"sk-estimator-id-2\" class=\"sk-toggleable__label sk-toggleable__label-arrow\">SVC</label><div class=\"sk-toggleable__content\"><pre>SVC()</pre></div></div></div></div></div>"
            ]
          },
          "metadata": {},
          "execution_count": 41
        }
      ]
    },
    {
      "cell_type": "markdown",
      "source": [
        "# Train Random Forest model after applying Bag of words\n"
      ],
      "metadata": {
        "id": "EyTiTxvm8Xcn"
      }
    },
    {
      "cell_type": "code",
      "source": [
        "rf_bow_model = RandomForestClassifier()\n",
        "rf_bow_model.fit(X_train_bow, train_df['Label'])"
      ],
      "metadata": {
        "colab": {
          "base_uri": "https://localhost:8080/",
          "height": 75
        },
        "id": "SObL_wMA8cYU",
        "outputId": "0ac031d2-f85f-4b8b-f4d9-7ca439c3daf1"
      },
      "execution_count": 42,
      "outputs": [
        {
          "output_type": "execute_result",
          "data": {
            "text/plain": [
              "RandomForestClassifier()"
            ],
            "text/html": [
              "<style>#sk-container-id-3 {color: black;background-color: white;}#sk-container-id-3 pre{padding: 0;}#sk-container-id-3 div.sk-toggleable {background-color: white;}#sk-container-id-3 label.sk-toggleable__label {cursor: pointer;display: block;width: 100%;margin-bottom: 0;padding: 0.3em;box-sizing: border-box;text-align: center;}#sk-container-id-3 label.sk-toggleable__label-arrow:before {content: \"▸\";float: left;margin-right: 0.25em;color: #696969;}#sk-container-id-3 label.sk-toggleable__label-arrow:hover:before {color: black;}#sk-container-id-3 div.sk-estimator:hover label.sk-toggleable__label-arrow:before {color: black;}#sk-container-id-3 div.sk-toggleable__content {max-height: 0;max-width: 0;overflow: hidden;text-align: left;background-color: #f0f8ff;}#sk-container-id-3 div.sk-toggleable__content pre {margin: 0.2em;color: black;border-radius: 0.25em;background-color: #f0f8ff;}#sk-container-id-3 input.sk-toggleable__control:checked~div.sk-toggleable__content {max-height: 200px;max-width: 100%;overflow: auto;}#sk-container-id-3 input.sk-toggleable__control:checked~label.sk-toggleable__label-arrow:before {content: \"▾\";}#sk-container-id-3 div.sk-estimator input.sk-toggleable__control:checked~label.sk-toggleable__label {background-color: #d4ebff;}#sk-container-id-3 div.sk-label input.sk-toggleable__control:checked~label.sk-toggleable__label {background-color: #d4ebff;}#sk-container-id-3 input.sk-hidden--visually {border: 0;clip: rect(1px 1px 1px 1px);clip: rect(1px, 1px, 1px, 1px);height: 1px;margin: -1px;overflow: hidden;padding: 0;position: absolute;width: 1px;}#sk-container-id-3 div.sk-estimator {font-family: monospace;background-color: #f0f8ff;border: 1px dotted black;border-radius: 0.25em;box-sizing: border-box;margin-bottom: 0.5em;}#sk-container-id-3 div.sk-estimator:hover {background-color: #d4ebff;}#sk-container-id-3 div.sk-parallel-item::after {content: \"\";width: 100%;border-bottom: 1px solid gray;flex-grow: 1;}#sk-container-id-3 div.sk-label:hover label.sk-toggleable__label {background-color: #d4ebff;}#sk-container-id-3 div.sk-serial::before {content: \"\";position: absolute;border-left: 1px solid gray;box-sizing: border-box;top: 0;bottom: 0;left: 50%;z-index: 0;}#sk-container-id-3 div.sk-serial {display: flex;flex-direction: column;align-items: center;background-color: white;padding-right: 0.2em;padding-left: 0.2em;position: relative;}#sk-container-id-3 div.sk-item {position: relative;z-index: 1;}#sk-container-id-3 div.sk-parallel {display: flex;align-items: stretch;justify-content: center;background-color: white;position: relative;}#sk-container-id-3 div.sk-item::before, #sk-container-id-3 div.sk-parallel-item::before {content: \"\";position: absolute;border-left: 1px solid gray;box-sizing: border-box;top: 0;bottom: 0;left: 50%;z-index: -1;}#sk-container-id-3 div.sk-parallel-item {display: flex;flex-direction: column;z-index: 1;position: relative;background-color: white;}#sk-container-id-3 div.sk-parallel-item:first-child::after {align-self: flex-end;width: 50%;}#sk-container-id-3 div.sk-parallel-item:last-child::after {align-self: flex-start;width: 50%;}#sk-container-id-3 div.sk-parallel-item:only-child::after {width: 0;}#sk-container-id-3 div.sk-dashed-wrapped {border: 1px dashed gray;margin: 0 0.4em 0.5em 0.4em;box-sizing: border-box;padding-bottom: 0.4em;background-color: white;}#sk-container-id-3 div.sk-label label {font-family: monospace;font-weight: bold;display: inline-block;line-height: 1.2em;}#sk-container-id-3 div.sk-label-container {text-align: center;}#sk-container-id-3 div.sk-container {/* jupyter's `normalize.less` sets `[hidden] { display: none; }` but bootstrap.min.css set `[hidden] { display: none !important; }` so we also need the `!important` here to be able to override the default hidden behavior on the sphinx rendered scikit-learn.org. See: https://github.com/scikit-learn/scikit-learn/issues/21755 */display: inline-block !important;position: relative;}#sk-container-id-3 div.sk-text-repr-fallback {display: none;}</style><div id=\"sk-container-id-3\" class=\"sk-top-container\"><div class=\"sk-text-repr-fallback\"><pre>RandomForestClassifier()</pre><b>In a Jupyter environment, please rerun this cell to show the HTML representation or trust the notebook. <br />On GitHub, the HTML representation is unable to render, please try loading this page with nbviewer.org.</b></div><div class=\"sk-container\" hidden><div class=\"sk-item\"><div class=\"sk-estimator sk-toggleable\"><input class=\"sk-toggleable__control sk-hidden--visually\" id=\"sk-estimator-id-3\" type=\"checkbox\" checked><label for=\"sk-estimator-id-3\" class=\"sk-toggleable__label sk-toggleable__label-arrow\">RandomForestClassifier</label><div class=\"sk-toggleable__content\"><pre>RandomForestClassifier()</pre></div></div></div></div></div>"
            ]
          },
          "metadata": {},
          "execution_count": 42
        }
      ]
    },
    {
      "cell_type": "markdown",
      "source": [
        "# Train Random Forest model after applying TF-IDF\n"
      ],
      "metadata": {
        "id": "xpabTEYl8ega"
      }
    },
    {
      "cell_type": "code",
      "source": [
        "rf_tfidf_model = RandomForestClassifier()\n",
        "rf_tfidf_model.fit(X_train_tfidf, train_df['Label'])"
      ],
      "metadata": {
        "colab": {
          "base_uri": "https://localhost:8080/",
          "height": 75
        },
        "id": "b5wUou-k8h0q",
        "outputId": "614901bc-6eba-4431-a8a7-ae33a2029a53"
      },
      "execution_count": 43,
      "outputs": [
        {
          "output_type": "execute_result",
          "data": {
            "text/plain": [
              "RandomForestClassifier()"
            ],
            "text/html": [
              "<style>#sk-container-id-4 {color: black;background-color: white;}#sk-container-id-4 pre{padding: 0;}#sk-container-id-4 div.sk-toggleable {background-color: white;}#sk-container-id-4 label.sk-toggleable__label {cursor: pointer;display: block;width: 100%;margin-bottom: 0;padding: 0.3em;box-sizing: border-box;text-align: center;}#sk-container-id-4 label.sk-toggleable__label-arrow:before {content: \"▸\";float: left;margin-right: 0.25em;color: #696969;}#sk-container-id-4 label.sk-toggleable__label-arrow:hover:before {color: black;}#sk-container-id-4 div.sk-estimator:hover label.sk-toggleable__label-arrow:before {color: black;}#sk-container-id-4 div.sk-toggleable__content {max-height: 0;max-width: 0;overflow: hidden;text-align: left;background-color: #f0f8ff;}#sk-container-id-4 div.sk-toggleable__content pre {margin: 0.2em;color: black;border-radius: 0.25em;background-color: #f0f8ff;}#sk-container-id-4 input.sk-toggleable__control:checked~div.sk-toggleable__content {max-height: 200px;max-width: 100%;overflow: auto;}#sk-container-id-4 input.sk-toggleable__control:checked~label.sk-toggleable__label-arrow:before {content: \"▾\";}#sk-container-id-4 div.sk-estimator input.sk-toggleable__control:checked~label.sk-toggleable__label {background-color: #d4ebff;}#sk-container-id-4 div.sk-label input.sk-toggleable__control:checked~label.sk-toggleable__label {background-color: #d4ebff;}#sk-container-id-4 input.sk-hidden--visually {border: 0;clip: rect(1px 1px 1px 1px);clip: rect(1px, 1px, 1px, 1px);height: 1px;margin: -1px;overflow: hidden;padding: 0;position: absolute;width: 1px;}#sk-container-id-4 div.sk-estimator {font-family: monospace;background-color: #f0f8ff;border: 1px dotted black;border-radius: 0.25em;box-sizing: border-box;margin-bottom: 0.5em;}#sk-container-id-4 div.sk-estimator:hover {background-color: #d4ebff;}#sk-container-id-4 div.sk-parallel-item::after {content: \"\";width: 100%;border-bottom: 1px solid gray;flex-grow: 1;}#sk-container-id-4 div.sk-label:hover label.sk-toggleable__label {background-color: #d4ebff;}#sk-container-id-4 div.sk-serial::before {content: \"\";position: absolute;border-left: 1px solid gray;box-sizing: border-box;top: 0;bottom: 0;left: 50%;z-index: 0;}#sk-container-id-4 div.sk-serial {display: flex;flex-direction: column;align-items: center;background-color: white;padding-right: 0.2em;padding-left: 0.2em;position: relative;}#sk-container-id-4 div.sk-item {position: relative;z-index: 1;}#sk-container-id-4 div.sk-parallel {display: flex;align-items: stretch;justify-content: center;background-color: white;position: relative;}#sk-container-id-4 div.sk-item::before, #sk-container-id-4 div.sk-parallel-item::before {content: \"\";position: absolute;border-left: 1px solid gray;box-sizing: border-box;top: 0;bottom: 0;left: 50%;z-index: -1;}#sk-container-id-4 div.sk-parallel-item {display: flex;flex-direction: column;z-index: 1;position: relative;background-color: white;}#sk-container-id-4 div.sk-parallel-item:first-child::after {align-self: flex-end;width: 50%;}#sk-container-id-4 div.sk-parallel-item:last-child::after {align-self: flex-start;width: 50%;}#sk-container-id-4 div.sk-parallel-item:only-child::after {width: 0;}#sk-container-id-4 div.sk-dashed-wrapped {border: 1px dashed gray;margin: 0 0.4em 0.5em 0.4em;box-sizing: border-box;padding-bottom: 0.4em;background-color: white;}#sk-container-id-4 div.sk-label label {font-family: monospace;font-weight: bold;display: inline-block;line-height: 1.2em;}#sk-container-id-4 div.sk-label-container {text-align: center;}#sk-container-id-4 div.sk-container {/* jupyter's `normalize.less` sets `[hidden] { display: none; }` but bootstrap.min.css set `[hidden] { display: none !important; }` so we also need the `!important` here to be able to override the default hidden behavior on the sphinx rendered scikit-learn.org. See: https://github.com/scikit-learn/scikit-learn/issues/21755 */display: inline-block !important;position: relative;}#sk-container-id-4 div.sk-text-repr-fallback {display: none;}</style><div id=\"sk-container-id-4\" class=\"sk-top-container\"><div class=\"sk-text-repr-fallback\"><pre>RandomForestClassifier()</pre><b>In a Jupyter environment, please rerun this cell to show the HTML representation or trust the notebook. <br />On GitHub, the HTML representation is unable to render, please try loading this page with nbviewer.org.</b></div><div class=\"sk-container\" hidden><div class=\"sk-item\"><div class=\"sk-estimator sk-toggleable\"><input class=\"sk-toggleable__control sk-hidden--visually\" id=\"sk-estimator-id-4\" type=\"checkbox\" checked><label for=\"sk-estimator-id-4\" class=\"sk-toggleable__label sk-toggleable__label-arrow\">RandomForestClassifier</label><div class=\"sk-toggleable__content\"><pre>RandomForestClassifier()</pre></div></div></div></div></div>"
            ]
          },
          "metadata": {},
          "execution_count": 43
        }
      ]
    },
    {
      "cell_type": "markdown",
      "source": [
        "# Evaluate performance on the testing dataset\n"
      ],
      "metadata": {
        "id": "HsJgWgpK8lrx"
      }
    },
    {
      "cell_type": "code",
      "source": [
        "def evaluate_model(model, X_test, y_test):\n",
        "    y_pred = model.predict(X_test)\n",
        "    accuracy = accuracy_score(y_test, y_pred)\n",
        "    precision = precision_score(y_test, y_pred, pos_label='Spam')\n",
        "    recall = recall_score(y_test, y_pred, pos_label='Spam')\n",
        "    return accuracy, precision, recall"
      ],
      "metadata": {
        "id": "yc471YWu8nT5"
      },
      "execution_count": 44,
      "outputs": []
    },
    {
      "cell_type": "markdown",
      "source": [
        "# Evaluate SVM models on the testing set\n"
      ],
      "metadata": {
        "id": "_AUrFiCC8rIG"
      }
    },
    {
      "cell_type": "code",
      "source": [
        "accuracy_svm_bow, precision_svm_bow, recall_svm_bow = evaluate_model(svm_bow_model, X_test_bow, test_df['Label'])\n",
        "accuracy_svm_tfidf, precision_svm_tfidf, recall_svm_tfidf = evaluate_model(svm_tfidf_model, X_test_tfidf, test_df['Label'])\n",
        "print(\"\\nSVM Bag of Words - Accuracy: {}, Precision: {}, Recall: {}\".format(accuracy_svm_bow, precision_svm_bow, recall_svm_bow))\n",
        "print(\"SVM TF-IDF - Accuracy: {}, Precision: {}, Recall: {}\".format(accuracy_svm_tfidf, precision_svm_tfidf, recall_svm_tfidf))"
      ],
      "metadata": {
        "colab": {
          "base_uri": "https://localhost:8080/"
        },
        "id": "eyiNUpxT8uqV",
        "outputId": "b69b22be-fde2-445d-ac04-6034d5a1f47c"
      },
      "execution_count": 47,
      "outputs": [
        {
          "output_type": "stream",
          "name": "stdout",
          "text": [
            "\n",
            "SVM Bag of Words - Accuracy: 0.728, Precision: 1.0, Recall: 0.5526315789473685\n",
            "SVM TF-IDF - Accuracy: 0.728, Precision: 1.0, Recall: 0.5526315789473685\n"
          ]
        }
      ]
    },
    {
      "cell_type": "markdown",
      "source": [
        "# Evaluate Random Forest models on the testing set\n"
      ],
      "metadata": {
        "id": "lzRmr2nI8wEe"
      }
    },
    {
      "cell_type": "code",
      "source": [
        "accuracy_rf_bow, precision_rf_bow, recall_rf_bow = evaluate_model(rf_bow_model, X_test_bow, test_df['Label'])\n",
        "accuracy_rf_tfidf, precision_rf_tfidf, recall_rf_tfidf = evaluate_model(rf_tfidf_model, X_test_tfidf, test_df['Label'])\n",
        "print(\"Random Forest Bag of Words - Accuracy: {}, Precision: {}, Recall: {}\".format(accuracy_rf_bow, precision_rf_bow, recall_rf_bow))\n",
        "print(\"Random Forest TF-IDF - Accuracy: {}, Precision: {}, Recall: {}\".format(accuracy_rf_tfidf, precision_rf_tfidf, recall_rf_tfidf))"
      ],
      "metadata": {
        "colab": {
          "base_uri": "https://localhost:8080/"
        },
        "id": "VhP9JsPw81LN",
        "outputId": "bf7306da-496a-4567-e978-557e18438136"
      },
      "execution_count": 48,
      "outputs": [
        {
          "output_type": "stream",
          "name": "stdout",
          "text": [
            "Random Forest Bag of Words - Accuracy: 0.728, Precision: 1.0, Recall: 0.5526315789473685\n",
            "Random Forest TF-IDF - Accuracy: 0.744, Precision: 1.0, Recall: 0.5789473684210527\n"
          ]
        }
      ]
    }
  ]
}